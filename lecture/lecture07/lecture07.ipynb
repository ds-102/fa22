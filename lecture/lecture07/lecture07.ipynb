{
 "cells": [
  {
   "cell_type": "markdown",
   "id": "6a520b08",
   "metadata": {},
   "source": [
    "# Data 102 Lecture 7 Demo"
   ]
  },
  {
   "cell_type": "code",
   "execution_count": null,
   "id": "8527cf1f",
   "metadata": {},
   "outputs": [],
   "source": [
    "import numpy as np\n",
    "import pandas as pd\n",
    "from scipy import stats\n",
    "%matplotlib inline\n",
    "import matplotlib.pyplot as plt\n",
    "import seaborn as sns\n",
    "sns.set()"
   ]
  },
  {
   "cell_type": "markdown",
   "id": "bda6eefa",
   "metadata": {},
   "source": [
    "These are copied from last lecture:"
   ]
  },
  {
   "cell_type": "code",
   "execution_count": null,
   "id": "10f02bad",
   "metadata": {},
   "outputs": [],
   "source": [
    "FIGURE_SIZE = (6.5, 4.5)\n",
    "def plot_prior_posterior(x, prior, posterior, xlim, \n",
    "                         prior_label, posterior_label,\n",
    "                         x_map=None, x_lmse=None,\n",
    "                        param_name: str = r'\\theta'):\n",
    "    \n",
    "    plt.figure(figsize=FIGURE_SIZE, dpi=100)\n",
    "    plt.plot(x, prior, lw=2.5, label = prior_label)\n",
    "    plt.plot(x, posterior, lw=2.5, label = posterior_label)\n",
    "    if x_map is not None:\n",
    "        map_index = np.argmin(np.abs(x - x_map))\n",
    "        posterior_map = posterior[map_index]\n",
    "        label = f'MAP estimate: {x_map:0.2f}'\n",
    "        plt.plot([x_map, x_map], [0, posterior_map], '--', lw=2.5, color='black', label=label)\n",
    "    if x_lmse is not None:\n",
    "        lmse_index = np.argmin(np.abs(x - x_lmse))\n",
    "        posterior_lmse = posterior[lmse_index]\n",
    "        label = f'LMSE estimate: {x_lmse:0.2f}'\n",
    "        plt.plot([x_lmse, x_lmse], [0, posterior_lmse], '--', lw=1.5, color='red', label=label)\n",
    "    #plt.legend(bbox_to_anchor=(1.32, 1.02))\n",
    "    plt.legend()\n",
    "    ymax = max(max(prior[np.isfinite(prior)]), max(posterior[np.isfinite(posterior)]))\n",
    "    plt.ylim(-0.3, ymax+0.3)\n",
    "    plt.xlim(*xlim)\n",
    "    plt.xlabel(f'${param_name}$')\n",
    "    plt.title(\n",
    "        f'Prior $p({param_name})$ and posterior given observed data $x$: $p({param_name}|x)$'\n",
    "    );\n",
    "    \n",
    "    \n",
    "def plot_beta_prior_and_posterior(alpha, beta, pos_obs, neg_obs, show_map=False, show_lmse=False):   \n",
    "    x = np.linspace(0, 1, 100)\n",
    "    prior = stats.beta.pdf(x, alpha, beta)\n",
    "    \n",
    "    alpha_new = alpha + pos_obs\n",
    "    beta_new = beta + neg_obs\n",
    "    posterior = stats.beta.pdf(x, alpha_new, beta_new)\n",
    "    \n",
    "    # You never have to memorize these: when making this notebook,\n",
    "    # I found them on the wikipedia page for the Beta distribution:\n",
    "    # https://en.wikipedia.org/wiki/Beta_distribution\n",
    "\n",
    "    if show_lmse:\n",
    "        x_lmse = (alpha_new)/(alpha_new + beta_new)\n",
    "    else:\n",
    "        x_lmse = None\n",
    "        \n",
    "    if show_map:\n",
    "        x_map = (alpha_new - 1) / (alpha_new + beta_new - 2)\n",
    "    else:\n",
    "        x_map = None\n",
    "    plot_prior_posterior(x, prior, posterior, (-0.02, 1.02),\n",
    "                         prior_label=f'Prior: Beta({alpha}, {beta})',\n",
    "                         posterior_label=f'Posterior: Beta({alpha_new}, {beta_new})',\n",
    "                         x_map=x_map, x_lmse=x_lmse)\n",
    "    \n",
    "# You don't need to understand how this function is implemented.\n",
    "\n",
    "def plot_gaussian_prior_and_posterior(μ_0, σ_0, xs, σ, range_in_σs=3.5, show_map=False, show_lmse=False):\n",
    "    \"\"\"\n",
    "    Plots prior and posterior Normaly distribution\n",
    "    \n",
    "    Args:\n",
    "        μ_0, σ_0: parameters (mean, SD) of the prior distribution\n",
    "        xs: list or array of observations\n",
    "        σ: SD of the likelihood\n",
    "        range_in_σs: how many SDs away from the mean to show on the plot\n",
    "        show_map: whether or not to show the MAP estimate as a vertical line\n",
    "        show_lmse: whether or not to show the LMSE/MMSE estimate as a vertical line\n",
    "    \"\"\"\n",
    "    n = len(xs)\n",
    "    posterior_σ = 1/np.sqrt(1/(σ_0**2) + n/(σ**2))\n",
    "    posterior_mean = (posterior_σ**2) * (μ_0/(σ_0**2) + np.sum(xs)/(σ**2))\n",
    "    \n",
    "    # Compute range for plot\n",
    "    posterior_min = posterior_mean - (range_in_σs * posterior_σ)\n",
    "    posterior_max = posterior_mean + (range_in_σs * posterior_σ)\n",
    "    prior_min = μ_0 - (range_in_σs * σ)\n",
    "    prior_max = μ_0 + (range_in_σs * σ)\n",
    "    \n",
    "    xmin = min(posterior_min, prior_min)\n",
    "    xmax = max(posterior_max, prior_max)\n",
    "    x = np.linspace(xmin, xmax, 100)\n",
    "    if show_lmse:\n",
    "        x_lmse = posterior_mean\n",
    "    else:\n",
    "        x_lmse = None\n",
    "        \n",
    "    if show_map:\n",
    "        x_map = posterior_mean\n",
    "    else:\n",
    "        x_map = None\n",
    "\n",
    "    \n",
    "    prior = stats.norm.pdf(x, μ_0, σ_0)\n",
    "    posterior = stats.norm.pdf(x, posterior_mean, posterior_σ)\n",
    "    \n",
    "    \n",
    "    plot_prior_posterior(x, prior, posterior, (xmin, xmax), 'Prior', 'Posterior',\n",
    "                         x_map=x_map, x_lmse=x_lmse, param_name=r'\\mu')\n"
   ]
  },
  {
   "cell_type": "markdown",
   "id": "072ace7b",
   "metadata": {},
   "source": [
    "Let's look at the posterior and compare the two microwaves that way:"
   ]
  },
  {
   "cell_type": "code",
   "execution_count": null,
   "id": "ea1b8d17",
   "metadata": {},
   "outputs": [],
   "source": [
    "# Microwave A: 3 positive reviews, 0 negative reviews\n",
    "plot_beta_prior_and_posterior(2, 3, 3, 0, show_map=True, show_lmse=True)\n"
   ]
  },
  {
   "cell_type": "code",
   "execution_count": null,
   "id": "3c61e10a",
   "metadata": {},
   "outputs": [],
   "source": [
    "# Microwave B: 19 positive reviews, 1 negative reviews\n",
    "plot_beta_prior_and_posterior(2, 3, 19, 1, show_map=True, show_lmse=True)\n"
   ]
  },
  {
   "cell_type": "markdown",
   "id": "65753558",
   "metadata": {},
   "source": [
    "### Continuous example: heights"
   ]
  },
  {
   "cell_type": "code",
   "execution_count": null,
   "id": "2d4702a4",
   "metadata": {},
   "outputs": [],
   "source": [
    "observed_heights = [6*12+0, 6*12+1, 5*12+9, 5*12+8]\n"
   ]
  },
  {
   "cell_type": "code",
   "execution_count": null,
   "id": "9e4a65cc",
   "metadata": {},
   "outputs": [],
   "source": [
    "plot_gaussian_prior_and_posterior(5*12 + 5, 1, observed_heights, 1, show_map=True)\n",
    "plt.xlim([61, 81])\n",
    "plt.xlabel(r'$\\mu$')"
   ]
  },
  {
   "cell_type": "code",
   "execution_count": null,
   "id": "8bada5b7",
   "metadata": {},
   "outputs": [],
   "source": [
    "plot_gaussian_prior_and_posterior(5*12 + 0, 1, observed_heights, 1, show_map=True)\n",
    "plt.xlim([61, 81])\n",
    "plt.xlabel(r'$\\mu$')"
   ]
  },
  {
   "cell_type": "code",
   "execution_count": null,
   "id": "aabecc6c",
   "metadata": {},
   "outputs": [],
   "source": [
    "plot_gaussian_prior_and_posterior(6*12 + 5, 1, observed_heights, 1, show_map=True)\n",
    "plt.xlim([61, 81])\n",
    "plt.xlabel(r'$\\mu$')"
   ]
  },
  {
   "cell_type": "code",
   "execution_count": null,
   "id": "b7e7156f",
   "metadata": {},
   "outputs": [],
   "source": [
    "plot_gaussian_prior_and_posterior(6*12 + 5, 1, observed_heights * 10, 1, show_map=True)\n",
    "plt.xlim([61, 81])\n",
    "plt.xlabel(r'$\\mu$')"
   ]
  },
  {
   "cell_type": "markdown",
   "id": "2792a6f4",
   "metadata": {},
   "source": [
    "## A more complex model: exoplanet sizes"
   ]
  },
  {
   "cell_type": "markdown",
   "id": "9b442649",
   "metadata": {},
   "source": [
    "Next, we'll look at a dataset of exoplanets: planets outside of our solar system. The `planets` dataframe contains information about 517 exoplanets from NASA. Can we use it to estimate which planets might be able to support life?"
   ]
  },
  {
   "cell_type": "code",
   "execution_count": null,
   "id": "328a16fd",
   "metadata": {},
   "outputs": [],
   "source": [
    "planets = pd.read_csv('exoplanets.csv')\n",
    "planets.head()"
   ]
  },
  {
   "cell_type": "markdown",
   "id": "686a84a4",
   "metadata": {},
   "source": [
    "It contains the following columns.\n",
    "* `name`: the name of the exoplanet\n",
    "* `orbital_period`: how many days it takes for the planet to orbit its star \n",
    "* `mass`: the mass of the planet, in multiples of Earth's mass (e.g., the second planet, 55 Cnc e, has a mass 73.6% of Earth's)\n",
    "* `radius`: the radius of the planet, in multiples of Earth's radius (e.g., the second planet, 55 Cnc e, has a radius almost twice the size of Earth's)\n",
    "* `star_temperature`: the temperature of the star that the planet orbits, in Kelvin\n",
    "* `density`: the density of the planet, in g/cm^3\n",
    "\n",
    "Note that in astronomy, it's more common to measure mass and radius in terms of the planet Jupiter rather than Earth (Jupiter is about 11 times the radius of earth and about 317 times the mass), but we're using Earth-based measurements since we're going to use Earth as a standard for habitability."
   ]
  },
  {
   "cell_type": "code",
   "execution_count": null,
   "id": "65f0cd10",
   "metadata": {
    "scrolled": true
   },
   "outputs": [],
   "source": [
    "planets.shape"
   ]
  },
  {
   "cell_type": "code",
   "execution_count": null,
   "id": "76a31d68",
   "metadata": {},
   "outputs": [],
   "source": [
    "sns.histplot(data=planets, x='radius', stat='density', bins=20)"
   ]
  },
  {
   "cell_type": "code",
   "execution_count": null,
   "id": "1a663057",
   "metadata": {},
   "outputs": [],
   "source": [
    "planets['radius'].mean()"
   ]
  },
  {
   "cell_type": "markdown",
   "id": "e39b1f77",
   "metadata": {},
   "source": [
    "Gaussian likelihood is not a good fit: the observations have two modes."
   ]
  },
  {
   "cell_type": "code",
   "execution_count": null,
   "id": "f1807115",
   "metadata": {},
   "outputs": [],
   "source": [
    "plot_gaussian_prior_and_posterior(11, 2, planets['radius'], 2)"
   ]
  },
  {
   "cell_type": "code",
   "execution_count": null,
   "id": "36406004",
   "metadata": {},
   "outputs": [],
   "source": [
    "plot_gaussian_prior_and_posterior(10, 2, planets['radius'], 2)"
   ]
  },
  {
   "cell_type": "code",
   "execution_count": null,
   "id": "84653ed5",
   "metadata": {},
   "outputs": [],
   "source": [
    "plot_gaussian_prior_and_posterior(10, 2, planets.loc[planets['radius'] > 7.5, 'radius'], 2)\n",
    "plt.xlim([-0.5, 24])"
   ]
  },
  {
   "cell_type": "markdown",
   "id": "acb66879",
   "metadata": {},
   "source": [
    "## PyMC3"
   ]
  },
  {
   "cell_type": "markdown",
   "id": "c9d59c28",
   "metadata": {},
   "source": [
    "We spent a lot of time doing algebra and computation for the review model. At this point, you might be asking: couldn't we do a lot of that work computationally? It turns out the answer is yes! PyMC3 is a Python library for Bayesian inference. You specify a probabilistic model (like the three we've just seen), and it will compute the posterior distribution over all unknown variables. \n",
    "\n",
    "Let's try it out on the product review model:\n",
    "\n",
    "$$\n",
    "\\begin{align}\n",
    "    x_i | \\theta  &\\sim \\mathrm{Bernoulli}(\\theta) \\\\\n",
    "    \\theta &\\sim \\mathrm{Beta}(\\alpha, \\beta)\n",
    "\\end{align}\n",
    "$$\n",
    "\n",
    "We'll start by specifying our data: Microwave A has 3 positive reviews and 0 negative reviews, and Microwave B has 19 positive reviews and 1 negative review."
   ]
  },
  {
   "cell_type": "code",
   "execution_count": null,
   "id": "a95a3614",
   "metadata": {},
   "outputs": [],
   "source": [
    "reviews_a = np.array([1, 1, 1])\n",
    "reviews_b = np.array([1] * 19 + [0])"
   ]
  },
  {
   "cell_type": "markdown",
   "id": "ff2981b1",
   "metadata": {},
   "source": [
    "Next, we define the model and compute the posterior. Here's what it looks like:"
   ]
  },
  {
   "cell_type": "code",
   "execution_count": null,
   "id": "7b75769a",
   "metadata": {},
   "outputs": [],
   "source": [
    "import pymc3 as pm\n",
    "import arviz as az\n",
    "\n",
    "# Parameters of the prior\n",
    "alpha = 2\n",
    "beta = 3\n",
    "\n",
    "# PyMC3 models should be specified inside a `with pm.Model() as ...:` block, like so:\n",
    "with pm.Model() as model:\n",
    "    # Define a Beta-distributed random variable called theta\n",
    "    theta = pm.Beta('theta', alpha=alpha, beta=beta)\n",
    "    \n",
    "    # Defines a Bernoulli RV called x. Since x is observed, we\n",
    "    # pass in the observed= argument to provide our data\n",
    "    x = pm.Bernoulli('x', p=theta, observed=reviews_b)\n",
    "    \n",
    "    # This line asks PyMC3 to approximate the posterior.\n",
    "    # Don't worry too much about how it works for now.\n",
    "    trace = pm.sample(2000, chains=2, tune=1000, return_inferencedata=True)"
   ]
  },
  {
   "cell_type": "code",
   "execution_count": null,
   "id": "5d56da07",
   "metadata": {
    "scrolled": true
   },
   "outputs": [],
   "source": [
    "trace"
   ]
  },
  {
   "cell_type": "code",
   "execution_count": null,
   "id": "02f53ac5",
   "metadata": {},
   "outputs": [],
   "source": [
    "trace.posterior"
   ]
  },
  {
   "cell_type": "code",
   "execution_count": null,
   "id": "ff1c66c4",
   "metadata": {},
   "outputs": [],
   "source": [
    "trace.posterior['theta']"
   ]
  },
  {
   "cell_type": "code",
   "execution_count": null,
   "id": "f1ada49a",
   "metadata": {},
   "outputs": [],
   "source": [
    "plt.hist(trace.posterior['theta'].values.flatten(), bins=20)"
   ]
  }
 ],
 "metadata": {
  "kernelspec": {
   "display_name": "Python 3",
   "language": "python",
   "name": "python3"
  },
  "language_info": {
   "codemirror_mode": {
    "name": "ipython",
    "version": 3
   },
   "file_extension": ".py",
   "mimetype": "text/x-python",
   "name": "python",
   "nbconvert_exporter": "python",
   "pygments_lexer": "ipython3",
   "version": "3.8.8"
  }
 },
 "nbformat": 4,
 "nbformat_minor": 5
}
