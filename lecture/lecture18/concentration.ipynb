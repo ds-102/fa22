{
 "cells": [
  {
   "cell_type": "markdown",
   "metadata": {},
   "source": [
    "# Concentration inequalities"
   ]
  },
  {
   "cell_type": "code",
   "execution_count": 2,
   "metadata": {},
   "outputs": [],
   "source": [
    "import numpy as np\n",
    "from scipy import stats\n",
    "\n",
    "import matplotlib\n",
    "%matplotlib inline\n",
    "import matplotlib.pyplot as plt\n",
    "#plt.style.use('fivethirtyeight')"
   ]
  },
  {
   "cell_type": "markdown",
   "metadata": {},
   "source": [
    "## 1. Motivation"
   ]
  },
  {
   "cell_type": "markdown",
   "metadata": {},
   "source": [
    "Given a random variable $X$, a *concentration inequality* for $X$ is one of the form\n",
    "\n",
    "$$\\mathbb{P}(|X-\\mu|\\geq t) \\leq \\delta$$\n",
    "\n",
    "where $\\mu$ is usually the mean or median of $X$, $t$ is a deviation threshold, and $\\delta$ measures the mass of the distribution outside the thresholded window."
   ]
  },
  {
   "cell_type": "markdown",
   "metadata": {},
   "source": [
    "Visually, if we think of $X$ has having the density shown in the plot below, then the inequality asserts that the green area is at most $\\delta$."
   ]
  },
  {
   "cell_type": "markdown",
   "metadata": {},
   "source": [
    "<img src=\"normal_concentration.png\" align=\"center\"/>"
   ]
  },
  {
   "cell_type": "markdown",
   "metadata": {},
   "source": [
    "*Remark: We sometimes also make use of **one-sided** concentration inequalities, i.e. those of the form $\\mathbb{P}(X-\\mu \\geq t) \\leq \\delta$ or $\\mathbb{P}(X-\\mu \\leq -t) \\leq \\delta$.*"
   ]
  },
  {
   "cell_type": "markdown",
   "metadata": {},
   "source": [
    "When $X$ is a well-known random variable, like a Gaussian, binomial, Poisson, etc., then we know the density function exactly, and so concentration inequalities are trivial. We just have to plug in the values of $\\mu$ and $t$ into a function like `stats.norm.cdf` to compute the green areas.\n",
    "\n",
    "However, in data science (and other fields that make use of probability and statistics), we often work with random variables whose distributions we don't fully know. As such, we need to use some other techniques to derive concentration inequalities for them."
   ]
  },
  {
   "cell_type": "markdown",
   "metadata": {},
   "source": [
    "### Why are we interested in concentration inequalities?"
   ]
  },
  {
   "cell_type": "markdown",
   "metadata": {},
   "source": [
    "Here are a few reasons:\n",
    "1. Many algorithms nowadays are randomized. We want to be able to obtain concentration inequalities for their running time.\n",
    "2. We sometimes do dimension reduction using random projections. Concentration inequalities are used to guarantee that this works.\n",
    "3. When we are estimating $\\mu$, concentration inequalities give us **exactly valid** confidence intervals for $\\mu$.\n",
    "4. Bandit algorithms make use of confidence intervals to make decisions. These CIs are produced using concentration inequalities."
   ]
  },
  {
   "cell_type": "markdown",
   "metadata": {},
   "source": [
    "## 2. Markov's inequality"
   ]
  },
  {
   "cell_type": "markdown",
   "metadata": {},
   "source": [
    "A large number of concentration inequalities (and all the inequalities we will see in this course) are based on Markov's inequality, which you have seen in a prior probability course. Let us do a review of how Markov's inequality works."
   ]
  },
  {
   "cell_type": "markdown",
   "metadata": {},
   "source": [
    "**Markov's inequality**: If $Z$ is a nonnegative random variable then, for $t > 0$, \n",
    "\n",
    "$$\n",
    "\\mathbb{P}(Z \\ge t) ~ \\le ~ \\frac{\\mathbb{E}(Z)}{t} \n",
    "$$"
   ]
  },
  {
   "cell_type": "markdown",
   "metadata": {},
   "source": [
    "Proof: Let $p(z)$ be the density of $Z$. Then\n",
    "$$\\mathbb{E}[Z] = \\int_0^\\infty z p(z)dz$$\n",
    "$$t\\mathbb{P}(Z\\geq t) = t\\int_t^\\infty p(z)dz = \\int_0^\\infty t\\cdot 1(z\\geq t) p(z) dz$$\n",
    "\n",
    "$\\mathbb{E}[Z]$ is hence the area under the blue diagonal line, weighted by $p(z)$, while $t\\mathbb{P}(Z\\geq t)$ is the area under the green line, weighted by $p(z)$. $\\blacksquare$"
   ]
  },
  {
   "cell_type": "markdown",
   "metadata": {},
   "source": [
    "<img src=\"Markov.png\" align=\"center\"/>"
   ]
  },
  {
   "cell_type": "markdown",
   "metadata": {},
   "source": [
    "## 3. Chebyshev's inequality and higher moments"
   ]
  },
  {
   "cell_type": "markdown",
   "metadata": {},
   "source": [
    "**Chebyshev's inequality**: For any random variable $Z$ with mean $\\mu$ and variance $\\sigma^2$, then for any $t > 0$,\n",
    "$$\n",
    "\\mathbb{P}(\\vert Z - \\mu \\vert \\ge t) \\le \\frac{\\mbox{Var}(Z)}{t^2}\n",
    "$$\n",
    "\n",
    "\n",
    "Proof: Apply Markov to $(Z - \\mu)^2$:\n",
    "\n",
    "$$\n",
    "\\mathbb{P}(\\vert Z - \\mu \\vert \\ge t) ~ = ~ \\mathbb{P}((Z - \\mu)^2 \\ge t^2) ~ \\le ~ \\frac{\\mathbb{E}(Z - \\mu)^2}{t^2} ~ = ~ \\frac{\\mbox{Var}(Z)}{t^2} \\blacksquare\n",
    "$$\n",
    "\n",
    "**Important example:** Let $Z = \\frac{1}{n} \\sum_{i=1}^n Z_i$ where $Z_1, Z_2, \\ldots, Z_n$ are i.i.d., with mean $\\mu$ and standard deviation $\\sigma$. Then $\\mathbb{E}(Z) = \\mu$, $\\mbox{Var}(Z) = \\sigma^2/n$, and\n",
    "\n",
    "$$\n",
    "\\mathbb{P}(\\vert Z - \\mu \\vert \\ge t) ~ \\le ~ \\frac{\\sigma^2}{nt^2}\n",
    "$$"
   ]
  },
  {
   "cell_type": "markdown",
   "metadata": {},
   "source": [
    "Chebyshev uses Markov's inequality with the 2nd moment (variance). There is no reason why we need to stick with the 2nd moment.\n",
    "\n",
    "**Higher moment bounds**: For $k = 1, 2, \\ldots$,\n",
    "\n",
    "$$\n",
    "\\mathbb{P}(\\vert Z - \\mu \\vert \\ge t) ~ \\leq ~ \\frac{\\mathbb{E}(\\vert Z - \\mu \\vert^k)}{t^k}\n",
    "$$\n",
    "\n",
    "Pf: The left hand side can be written as $\\mathbb{P}(\\vert Z - \\mu \\vert^k \\ge t^k)$. Again, apply Markov. $\\blacksquare$\n",
    "\n",
    "The numerator is generally not easy to calculate (especially in the important example above). Also, even if it were easy to calculate, it's not clear which value of $k$ we should choose to get the tightest bound."
   ]
  },
  {
   "cell_type": "markdown",
   "metadata": {},
   "source": [
    "## 4. Moment generating function and Chernoff's method\n",
    "\n",
    "Recall from elementary calculus that the exponential function, $e^x$, can be expanded in a Taylor series:\n",
    "\n",
    "$$\n",
    "e^z = 1 + z + \\frac{1}{2} z^2 + \\frac{1}{6} z^3 + \\frac{1}{24} z^4 + \\cdots,\n",
    "$$\n",
    "\n",
    "so if we consider the expectation $\\mathbb{E}(e^Z)$, we are effectively getting all of the moments, bundled up in \n",
    "a particular way:\n",
    "\n",
    "$$\n",
    "\\mathbb{E}(e^Z) = 1 + \\mathbb{E}(Z) + \\frac{1}{2} \\mathbb{E}(Z^2) + \\frac{1}{6} \\mathbb{E}(Z^3) + \\frac{1}{24} \\mathbb{E}(Z^4) + \\cdots,\n",
    "$$\n",
    "\n",
    "So it makes sense to consider the *moment generating function* $M_Z$, defined by\n",
    "\n",
    "$$\n",
    "M_Z(\\lambda ) ~ = ~ \\mathbb{E}(e^{\\lambda Z}),\n",
    "$$\n",
    "\n",
    "where the additional parameter $\\lambda$ gives us some amount of control over\n",
    "which particular moments to favor.  Operationally, we simply set $\\lambda$ to give us\n",
    "the tightest bounds.  This is easier than choosing $k$ to give us the tightest bound because\n",
    "we can use calculus.\n",
    "\n",
    "- **The mgf and tails**\n",
    "    - If the $M_Z(\\lambda)$ is finite for a positive value of $\\lambda$, that tells you the right hand tail of $Z$ is not very heavy.\n",
    "    - If the $M_Z(\\lambda)$ is finite for a negative value of $\\lambda$, that tells you the left hand tail of $Z$ is not very heavy.\n",
    "    - So the mgf is a natural function to consider for tail bounds.\n",
    "\n",
    "### Chernoff's Method ###\n",
    "\n",
    "For fixed $\\lambda \\ge 0$, the function $g(z) = e^{\\lambda z}$ is an increasing function of $z$. So apply Markov to $e^{\\lambda Z}$ for a nonnegative $\\lambda$:\n",
    "\n",
    "$$\n",
    "\\mathbb{P}(Z \\ge t) ~ = ~ \\mathbb{E}(e^{\\lambda Z} \\ge e^{\\lambda t}) ~ \\le ~\n",
    "\\frac{\\mathbb{E}(e^{\\lambda Z})}{e^{\\lambda t}} ~ = ~ \\frac{M_Z(\\lambda)}{e^{\\lambda t}}\n",
    "$$\n",
    "\n",
    "This is a family of bounds, one for each positive $\\lambda$. To get the best of these bounds, minimize over all nonnegative $\\lambda$:\n",
    "\n",
    "$$\n",
    "\\mathbb{P}(Z \\ge t) ~ \\leq ~ \\min_{\\lambda \\ge 0} \\frac{M_Z(\\lambda)}{e^{\\lambda t}}\n",
    "$$"
   ]
  },
  {
   "cell_type": "markdown",
   "metadata": {},
   "source": [
    "## 5. Chernoff's method and Gaussian random variables"
   ]
  },
  {
   "cell_type": "markdown",
   "metadata": {},
   "source": [
    "We now apply Chernoff's method to Gaussian random variables. Let $X \\sim \\mathcal{N}(\\mu, \\sigma^2)$. Then $Z = X - \\mu \\sim \\mathcal{N}(0, \\sigma^2)$ and has mgf $M_Z(\\lambda) = e^{\\sigma^2 \\lambda^2/2}$. So for $\\lambda \\ge 0$,\n",
    "\n",
    "$$\n",
    "\\mathbb{P}(X - \\mu > t) ~ \\le ~ \\min_{\\lambda \\geq 0} \\exp \\big{(} \\frac{\\sigma^2 \\lambda^2}{2} - \\lambda t \\big{)}\n",
    "$$"
   ]
  },
  {
   "cell_type": "markdown",
   "metadata": {},
   "source": [
    "How do we optimize this in $\\lambda$? Recognize that since $\\exp(x)$ is an increasing function, we have\n",
    "$$\n",
    "\\min_{\\lambda \\geq 0} \\exp \\big{(} \\frac{\\sigma^2 \\lambda^2}{2} - \\lambda t \\big{)} = \\exp \\big{(}\\min_{\\lambda \\geq 0} \\left\\{\\frac{\\sigma^2 \\lambda^2}{2} - \\lambda t \\right\\} \\big{)}.\n",
    "$$\n",
    "\n",
    "The quantity in the exponent is a quadratic function $f(\\lambda)$, and can be minimized using the quadratic formula to get $\\lambda^* = \\frac{t}{\\sigma^2}$, and $f(\\lambda^*) = \\frac{-t^2}{2\\sigma^2}$.\n",
    "\n",
    "Putting everything together, we get\n",
    "$$\n",
    "\\mathbb{P}(X-\\mu > t) ~\\leq ~\\exp\\left(-\\frac{t^2}{2\\sigma^2}\\right)\n",
    "$$\n",
    "\n",
    "**Choice of $\\lambda$ in bound**: The following plot shows how the bound varies with $\\lambda$ for a choice of $t=5$ and $\\sigma = 2$."
   ]
  },
  {
   "cell_type": "code",
   "execution_count": 3,
   "metadata": {},
   "outputs": [
    {
     "data": {
      "image/png": "[encoded data removed]",
      "text/plain": [
       "<Figure size 432x288 with 1 Axes>"
      ]
     },
     "metadata": {
      "needs_background": "light"
     },
     "output_type": "display_data"
    }
   ],
   "source": [
    "t = 5\n",
    "sigma = 2\n",
    "\n",
    "lam_min = 0.5\n",
    "lam_max = 2\n",
    "lam = np.arange(lam_min, lam_max, 0.01)\n",
    "\n",
    "bound = np.exp(0.5*((sigma*lam)**2) - lam*t)\n",
    "exact = 1 - stats.norm.cdf(t/sigma)\n",
    "\n",
    "plt.plot([lam_min, lam_max], [exact, exact], lw=2, label = 'Exact Probability')\n",
    "plt.plot(lam, bound, lw=2, label = 'Bound')\n",
    "plt.plot([lam_min, lam_max], [0, 0], color='k', lw=1)\n",
    "plt.axvline(5/sigma**2, c=\"k\", ls=\"--\", label=\"$\\lambda^*$\")\n",
    "plt.legend(bbox_to_anchor=(1.4, 1))\n",
    "plt.xlabel('$\\lambda$')\n",
    "plt.title('Bounding $P(X - \\mu \\geq 5)$ when $X$ is normal $(\\mu, 2^2)$');"
   ]
  },
  {
   "cell_type": "markdown",
   "metadata": {},
   "source": [
    "**Comparing with other probability bounds:** Because $X - \\mu$ is symmetric about zero, the Chebyshev bound for a single tail is\n",
    "\n",
    "$$\n",
    "\\mathbb{P}(X - \\mu \\ge t) ~ \\le \\frac{\\sigma^2}{2t^2}\n",
    "$$\n",
    "\n",
    "Below, we plot the values of both bounds for $t$ between 3 and 7 for $X \\sim \\mathcal{N}(\\mu,2^2)$. We also plot the exact value of the tail probability. Both clearly are overestimates, but the Chernoff bound is much tighter for larger values of $t$."
   ]
  },
  {
   "cell_type": "code",
   "execution_count": 14,
   "metadata": {},
   "outputs": [
    {
     "data": {
      "image/png": "[encoded data removed]",
      "text/plain": [
       "<Figure size 864x360 with 2 Axes>"
      ]
     },
     "metadata": {
      "needs_background": "light"
     },
     "output_type": "display_data"
    }
   ],
   "source": [
    "sigma = 2\n",
    "\n",
    "t_min = 3\n",
    "t_max = 7\n",
    "t = np.arange(t_min, t_max + .01, 0.01)\n",
    "\n",
    "chernoff = np.exp(-0.5*((t/sigma)**2))\n",
    "chebyshev = 0.5 * ((sigma/t)**2)\n",
    "\n",
    "fig, ax = plt.subplots(1,2, figsize = (12,5))\n",
    "for i in range(2):\n",
    "    ax[i].plot(t, 1 - stats.norm.cdf(t/sigma), label='Exact Probability', lw=2)\n",
    "    ax[i].plot(t, chernoff, lw=2, label='Chernoff Bound')\n",
    "    ax[i].plot(t, chebyshev, lw=2, label='Chebyshev Bound')\n",
    "    ax[i].set_xlim(t_min, t_max)\n",
    "    ax[i].set_xlabel('$t$')\n",
    "    ax[i].legend()\n",
    "    if i == 1:\n",
    "        ax[i].semilogy()\n",
    "    ax[i].set_title('Bounds on $P(X - \\mu \\geq t)$ when $X$ is $\\mathcal{N}(\\mu, 2^2)$')"
   ]
  },
  {
   "cell_type": "markdown",
   "metadata": {},
   "source": [
    "It was kinda silly to get a tail bound this way for normal random variables, because we already know its distribution. The beauty of the argument however is that it allows us to obtain tail bounds for other random variables that we do not understand as well. This is the topic of the next section."
   ]
  },
  {
   "cell_type": "markdown",
   "metadata": {},
   "source": [
    "## 6. Chernoff's method and bounded random variables, Hoeffding's inequality"
   ]
  },
  {
   "cell_type": "markdown",
   "metadata": {},
   "source": [
    "To recap, Chernoff's method involves applying Markov's inequality with the transformed variable $Y = e^{\\lambda Z}$, and then optimizing the bound in $\\lambda$. In the previous section, the only property of Gaussian random variables we used was the bound on the MGF $M_Z(\\lambda) = e^{\\sigma^2 \\lambda^2/2}$. Here, we will extend the analysis to another class of random variables.\n",
    "\n",
    "**Definition:** We say that $Z$ is *bounded* between $a$ and $b$ if $\\mathbb{P}(a \\leq Z \\leq b) = 1$. We say that $Z$ is *centered* if $\\mathbb{E}[Z] = 0$."
   ]
  },
  {
   "cell_type": "markdown",
   "metadata": {},
   "source": [
    "**Hoeffding's Lemma**: Suppose that $Z$ is a centered random variable bounded between $a$ and $b$. Then\n",
    "$$\n",
    "M_Z(\\lambda) ~ \\le ~ \\exp \\big{(} \\frac{(b-a)^2}{8}\\lambda^2 \\big{)}.\n",
    "$$\n",
    "\n",
    "Proof: Can be found on Wikipedia."
   ]
  },
  {
   "cell_type": "markdown",
   "metadata": {},
   "source": [
    "This implies that we can replace $\\sigma^2$ with $(b-a)^2/4$ in our calculations above and get $\\mathbb{P}(Z > t) ~\\leq ~\\exp\\left(-\\frac{2t^2}{(b-a)^2}\\right)$. We are however more interested in the *important example* introduced in Section 2, where we considered a sum of i.i.d. random variables. Recall that it was convenient to apply Chebyshev to that example because of the additivity of variance over independent RVs. We had\n",
    "$$\\text{Var}\\left(\\frac{1}{n}\\sum_{i=1}^n X_i\\right) = \\frac{1}{n^2}\\sum_{i=1}^n \\text{Var}(X_i) = \\frac{\\sigma^2}{n}.$$\n",
    "\n",
    "For the MGF, we have a similarly useful property.\n",
    "\n",
    "**Multiplicativity of MGF for independent RVS:** Let $X_1,X_2,\\ldots,X_n$ be independent RVs, and set $Z = \\sum_{i=1}^n X_i$. Then\n",
    "$$M_Z(\\lambda) = \\prod_{i=1}^n M_{X_i}(\\lambda).$$\n",
    "\n",
    "Proof: Left as exercise."
   ]
  },
  {
   "cell_type": "markdown",
   "metadata": {},
   "source": [
    "### Hoeffding's inequality"
   ]
  },
  {
   "cell_type": "markdown",
   "metadata": {},
   "source": [
    "Using the previous two lemmas, we get the following important theorem\n",
    "\n",
    "**Hoeffding's inequality:** Let $X_1,X_2,\\ldots,X_n$ be independent random variables bounded between $a$ and $b$. Then\n",
    "$$\n",
    "\\mathbb{P}\\big(\\frac{1}{n}\\sum_{i=1}^n (X_i - \\mathbb{E}[X_i]) \\geq t\\big) \\leq \\exp\\left(-\\frac{2nt^2}{(b-a)^2}\\right).\n",
    "$$\n",
    "Furthermore, we have the two-sided bound\n",
    "$$\n",
    "\\mathbb{P}\\big(\\big|\\frac{1}{n}\\sum_{i=1}^n (X_i - \\mathbb{E}[X_i])\\big| \\geq t\\big) \\leq 2\\exp\\left(-\\frac{2nt^2}{(b-a)^2}\\right).\n",
    "$$\n",
    "\n",
    "Pf: By replacing $X_i$ with $X_i - \\mathbb{E}[X_i]$ if necessary, we may assume that $\\mathbb{E}[X_i] = 0$ for each $i$ (we do this for notational convenience). Write $Z = \\sum_{i=1}^n \\frac{X_i}{n}$, and observe that each term is bounded between $a/n$ and $b/n$. Then \n",
    "$$\n",
    "\\begin{align*}\n",
    "M_Z(\\lambda) &= \\prod_{i=1}^n M_{X_i}(\\lambda) \\\\\n",
    "& \\leq \\prod_{i=1}^n \\exp \\big{(} \\frac{(b-a)^2}{8n^2}\\lambda^2 \\big{)} \\\\\n",
    "& = \\exp \\big{(} \\frac{(b-a)^2}{8n}\\lambda^2 \\big{)}\n",
    "\\end{align*}\n",
    "$$\n",
    "Applying Chernoff's method:\n",
    "$$\n",
    "\\begin{align*}\n",
    "\\mathbb{P}(Z > t) ~ & \\le ~ \\min_{\\lambda \\geq 0} \\exp \\big{(} \\frac{(b-a)^2 \\lambda^2}{8n} - \\lambda t \\big{)} \\\\\n",
    "& = \\exp\\left(-\\frac{2nt^2}{(b-a)^2}\\right).\n",
    "\\end{align*}\n",
    "$$\n",
    "For the two sided bound, we write\n",
    "$$\n",
    "\\mathbb{P}\\big(\\big|\\frac{1}{n}\\sum_{i=1}^n (X_i - \\mathbb{E}[X_i])\\big| \\geq t\\big)= \\mathbb{P}\\big(\\frac{1}{n}\\sum_{i=1}^n (X_i - \\mathbb{E}[X_i]) \\geq t \\big) + \\mathbb{P}\\big(-\\frac{1}{n}\\sum_{i=1}^n (X_i - \\mathbb{E}[X_i]) \\geq t\\big).\n",
    "$$\n",
    "We can bound the second term in the same way before by running Chernoff's method with $-Z$ instead. $\\blacksquare$"
   ]
  },
  {
   "cell_type": "markdown",
   "metadata": {},
   "source": [
    "## 7. Examples and comparison"
   ]
  },
  {
   "cell_type": "markdown",
   "metadata": {},
   "source": [
    "In this section, we will apply Hoeffding's inequality to some examples, and compare its performance to other probability bounds.\n",
    "\n",
    "Let $Z$ be a binomial $(n, p)$ proportion, that is, $Z = X/n$ where $X$ has the binomial $(n, p)$ distribution. Note that we may write $X = \\sum_{i=1}^n Y_i$, where $Y_i$ is a Bernoulli random variable with expecttion $\\mathbb{E}[Y_i] = p$, and which is bounded between 0 and 1. Applying Hoeffding's inequality, we get\n",
    "\n",
    "$$\n",
    "\\mathbb{P}(Z - p > t) ~ \\le ~ \\exp(-2nt^2).\n",
    "$$\n",
    "\n",
    "Write the event in terms of the count of successes $X$, using $\\mu_X$ for the expectation $np$:\n",
    "\n",
    "$$\n",
    "\\mathbb{P}(Z - p \\ge t) ~ = ~ \\mathbb{P}(X - \\mu_X \\ge nt) ~ = ~ \\mathbb{P}(X \\ge (1+c)\\mu_X)\n",
    "$$\n",
    "\n",
    "where $c = t/p$. This is a way of writing the chance that $X$ exceeds its mean by a *specified proportion*.\n",
    "\n",
    "So let's look at $\\mathbb{P}(X \\ge (1+c)np)$ which we can also express as $\\mathbb{P}(X - np \\ge cnp)$. The graphs below are:\n",
    "\n",
    "- the exact binomial probability $\\mathbb{P}(X \\ge (1+c)np)$\n",
    "- the Hoeffding bound $\\exp(-2nt^2)$ for $t = cp$\n",
    "- the approximation using the $\\mathcal{N}(np, np(1-p))$ distribution\n",
    "\n",
    "Notice how the normal approximation is sometimes higher and sometimes lower than the exact value. The Hoeffding bound isn't particularly close but it's always above and it has the right decay rate. So you can trust it: if you construct confidence intervals for $p$ using the Hoeffding bounds as the ends, the level of confidence is guaranteed regardless of whether $n$ is large or small."
   ]
  },
  {
   "cell_type": "code",
   "execution_count": 12,
   "metadata": {},
   "outputs": [
    {
     "data": {
      "image/png": "[encoded data removed]",
      "text/plain": [
       "<Figure size 432x432 with 1 Axes>"
      ]
     },
     "metadata": {
      "needs_background": "light"
     },
     "output_type": "display_data"
    }
   ],
   "source": [
    "# You can change these parameters\n",
    "c = 0.25\n",
    "p = 0.5\n",
    "n_array = np.arange(10, 101, 1)\n",
    "\n",
    "# Leave the code alone below this point\n",
    "t = c*p\n",
    "exact = np.array([])\n",
    "normal = np.array([])\n",
    "\n",
    "for n in n_array:\n",
    "    mu = n * p\n",
    "    k = (1+c)*mu\n",
    "    # if k an integer decrease by 1\n",
    "    if k == int(k):\n",
    "        k = (1+c)*mu-1\n",
    "    exact = np.append(exact, 1 - stats.binom.cdf(k, n, p))\n",
    "    normal = np.append(normal, 1 - stats.norm.cdf((1+c)*mu, mu, (n*p*(1-p))**0.5))\n",
    "\n",
    "hoeff = np.exp(-2*n_array*(t**2))\n",
    "\n",
    "plt.figure(figsize=(6, 6))\n",
    "plt.plot(n_array, hoeff, color='green', lw=2, label='Hoeffding')\n",
    "plt.plot(n_array, normal, color='red', lw=2, label='Normal', zorder=3)\n",
    "plt.plot(n_array, exact, color='darkblue', lw=2, label='Binomial')\n",
    "\n",
    "plt.legend()\n",
    "plt.title('$P(X - {0}*n > {1}*n)$ for $X$: binomial $(n, {0})$'.format(p,p*c))\n",
    "plt.xlabel('$n$');"
   ]
  },
  {
   "cell_type": "markdown",
   "metadata": {},
   "source": [
    "## 8. Confidence intervals\n",
    "\n",
    "If we are using Chernoff's inequality or concentration inequalities to construct confidence intervals, then we have to compare it to the two methods that we have already learnt: Normal approximation (i.e. observing the Central Limit Theorem $\\frac{1}{\\sqrt{n}}\\sum_{i=1}^n X_i \\Rightarrow \\mathcal{N}(0,\\sigma^2)$ and using the limiting distribution to get a confidence interval), or through the bootstrap.\n",
    "\n",
    "**Comparing against normal approximation:** Normal approximation is *asymptotic*, and hence, may not be reliable for small values of $n$. This is especially the case with large deviations (i.e. for large values of $t$.) In this case, the approximation error between the comparison normal distribution and the true distribution may dwarf the tail probabilities. As seen from the last plot in the previous section, normal approximation may provide an underestimate of the tail probability, so if we want to be safe, we should use concentration inequalities.\n",
    "\n",
    "**Comparing against bootstrap:** Bootstrap depends on data: We need to observe the data first before we can get a confidence interval. On the other hand, with concentration inequalities, we can use prior assumptions about the random variable (boundedness, variance, sample size,...) to determine the width of the intervals without even having seen any data. Furthermore, the validity of bootstrap confidence intervals is also asymptotic, and runs into the same problems as with the normal approximation.\n",
    "\n",
    "Because of their non-asymptotic nature, concentration inequalities are often used as *theoretical tools*, i.e. they are used to prove guarantees for data science algorithms."
   ]
  },
  {
   "cell_type": "markdown",
   "metadata": {},
   "source": [
    "## 9. Going abstract: Sub-Gaussian random variables\n",
    "\n",
    "It is sometimes helpful to work on an abstract level, as it helps us to see how tools we develop in one setting can be applied to other settings. Chernoff's method provides an example of this.\n",
    "\n",
    "We mentioned earlier that the only property of Gaussian random variables we used was the bound on the MGF $M_Z(\\lambda) = e^{\\sigma^2 \\lambda^2/2}$. We stated Hoeffding's Lemma, which shows that a similar MGF bound applies for bounded random variables.\n",
    "\n",
    "A key insight in the development of machine learning theory was the recognition that it is fruitful to make the MGF bound the *definition* of a class of random variables. Then Hoeffding's inequality (and others) will apply to all random variables in this class.\n",
    "\n",
    "**Definition:** We say that a random variable $X$ with mean $\\mu$ is $\\sigma$-sub-Gaussian if we have\n",
    "$$\n",
    "\\mathbb{E}[e^{\\lambda(X-\\mu)}] \\leq e^{\\frac{\\lambda^2\\sigma^2}{2}}.\n",
    "$$"
   ]
  },
  {
   "cell_type": "markdown",
   "metadata": {},
   "source": [
    "It turns out that many random variables arising in the course of analyzing algorithms in various settings (statistics, machine learning, signal processing, numerical linear algebra,..) all belong to this class."
   ]
  },
  {
   "cell_type": "markdown",
   "metadata": {},
   "source": [
    "From the calculations in Section 5, we have the following property.\n",
    "\n",
    "**Hoeffding bound for (sums of) sub-Gaussian RVs:** Let $X$ be $\\sigma$-sub-Gaussian with mean $\\mu$. Then\n",
    "$$\n",
    "\\mathbb{P}(X-\\mu > t) ~\\leq ~\\exp\\left(-\\frac{t^2}{2\\sigma^2}\\right)\n",
    "$$\n",
    "\n",
    "In particular, if $X_1,X_2,\\ldots,X_n$ be $\\sigma$-sub-Gaussian random variables with, and $a_1,a_2,\\ldots,a_n$ be any numbers, then if $\\mu = \\mathbb{E}[\\sum_{i=1}^n a_iX_i]$, we have\n",
    "$$\n",
    "\\mathbb{P}(\\sum_{i=1}^n a_i X_i-\\mu > t) ~\\leq ~\\exp\\left(-\\frac{t^2}{2\\sum_{i=1}^n a_i^2\\sigma_i^2}\\right)\n",
    "$$"
   ]
  },
  {
   "cell_type": "markdown",
   "metadata": {},
   "source": [
    "The second statement follows from the following two lemmas."
   ]
  },
  {
   "cell_type": "markdown",
   "metadata": {},
   "source": [
    "**Lemma:** Let $X$ be $\\sigma$-sub-Gaussian, and let $a$ be any number. Then $aX$ is $|a|\\sigma$-sub-Gaussian.\n",
    "\n",
    "Pf: Assume WLOG that $\\mathbb{E}[X] = 0$. We have\n",
    "$$\n",
    "\\mathbb{E}[e^{\\lambda aX}] = \\mathbb{E}[e^{(\\lambda a)X}] \\leq e^{(\\lambda a)^2\\sigma^2/2} = e^{\\lambda^2(a\\sigma)^2/2}. \\quad\\blacksquare\n",
    "$$"
   ]
  },
  {
   "cell_type": "markdown",
   "metadata": {},
   "source": [
    "**Lemma:** Let $X_1,X_2,\\ldots,X_n$ be independent random variables, with $X_i$ $\\sigma_i$-sub-Gaussian for each $i$. Then $Z = \\sum_{i=1}^n X_i$ is $\\sigma$-sub-Gaussian, where\n",
    "$$\n",
    "\\sigma^2 = \\sum_{i=1}^n \\sigma_i^2.\n",
    "$$\n",
    "\n",
    "Pf: Use the multiplicativity of the MGF."
   ]
  },
  {
   "cell_type": "markdown",
   "metadata": {},
   "source": [
    "**Examples of sub-Gaussian random variables:**\n",
    "1. Gaussian random variables. If $X \\sim \\mathcal N (\\mu, \\sigma^2)$, then $X$ is $\\sigma$-sub-Gaussian (see Section 5)\n",
    "2. Bounded random variables. If $X$ is bounded between $a$ and $b$, then $X$ is $\\sigma$-sub-Gaussian with $\\sigma^2 = \\frac{(b-a)^2}{4}$ (see Hoeffding's Lemma in Section 6)."
   ]
  },
  {
   "cell_type": "markdown",
   "metadata": {},
   "source": [
    "**Exercise:** Let $X_1,\\ldots,X_m, Y_1,\\ldots,Y_n$ be independent $\\sigma$-sub-Gaussian random variables. Suppose the $X_i$'s each have mean $\\mu_1$, while the $Y_i$'s each have mean $\\mu_2$. Then\n",
    "\n",
    "$$\n",
    "\\mathbb{P}\\left(\\frac{1}{m}\\sum_{i=1}^n X_i - \\frac{1}{n}\\sum_{i=1}^n Y_i > \\mu_1 - \\mu_2 + t\\right) ~\\leq ~\\exp\\left(-\\frac{t^2}{2\\sigma^2(1/m+1/n)}\\right)\n",
    "$$"
   ]
  }
 ],
 "metadata": {
  "kernelspec": {
   "display_name": "Python 3",
   "language": "python",
   "name": "python3"
  },
  "language_info": {
   "codemirror_mode": {
    "name": "ipython",
    "version": 3
   },
   "file_extension": ".py",
   "mimetype": "text/x-python",
   "name": "python",
   "nbconvert_exporter": "python",
   "pygments_lexer": "ipython3",
   "version": "3.7.7"
  }
 },
 "nbformat": 4,
 "nbformat_minor": 4
}
