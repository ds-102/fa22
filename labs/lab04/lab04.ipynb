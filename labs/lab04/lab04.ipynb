{
 "cells": [
  {
   "cell_type": "code",
   "execution_count": 11,
   "metadata": {
    "deletable": false,
    "editable": false
   },
   "outputs": [],
   "source": [
    "# Initialize Otter\n",
    "import otter\n",
    "grader = otter.Notebook(\"lab04.ipynb\")"
   ]
  },
  {
   "cell_type": "markdown",
   "metadata": {},
   "source": [
    "# Lab 4:  Sampling from unknown distributions\n",
    "\n",
    "Welcome to the 4th Data 102 lab! \n",
    "\n",
    "The goal of this Lab is to get you familiar with 3 sampling strategies for obtaining samples from unknown distributions:\n",
    " - Rejection Sampling\n",
    " - Gibbs Sampling\n",
    " - Metropolis Hastings\n",
    " \n",
    "The Lab looks long because we are trying to cover a lot of ground. However there is relatively little code you need to write. The only 'bigish' function you need to write is **2.a**. The code and responses you need to fill in are represented by `...`. There is additional documentation for each part as you go along. \n",
    "\n",
    "##### Please read carefully the introduction and the instructions to each problem.\n",
    "\n",
    "## Collaboration Policy\n",
    "Data science is a collaborative activity. While you may talk with others about the labs, we ask that you **write your solutions individually**. If you do discuss the assignments with others please **include their names** in the cell below.\n"
   ]
  },
  {
   "cell_type": "markdown",
   "metadata": {},
   "source": [
    "**Collaborators**: "
   ]
  },
  {
   "cell_type": "markdown",
   "metadata": {},
   "source": [
    "## Gradescope Submission\n",
    "To submit the lab: \n",
    "1. Navigate to Kernel > Restart & Run All. Ensure that all public test cases pass locally. \n",
    "2. Save your notebook under File > Save and Checkpoint. If you do not save your notebook, then you might run into issues with the downloaded .zip file.\n",
    "3. Run the very last cell, which generates a .zip file for you to download to your local machine. Click the “here” button to download the .zip file. You may receive an error that the .zip file was unable to be created because there was an issue with PDF generation. You need to ensure that you’ve answered all of the questions that require a manual response.\n",
    "4. If your work downloads as several independent files rather than as a .zip, you are likely using Safari on a Mac. Follow these instructions to make sure you can download your work as a zip: https://macreports.com/how-to-download-zip-files-without-unzipping/\n",
    "5. Upload this .zip to the correct assignment on Gradescope. After submitting, the autograder built-in to the Gradescope assignment will tell you which public test cases you’ve passed and failed. There are no hidden test cases.\n",
    "\n",
    "**For full credit, this assignment should be completed and submitted before Thursday, September 29, 2022 at 11:59 PM. PT**"
   ]
  },
  {
   "cell_type": "code",
   "execution_count": 1,
   "metadata": {},
   "outputs": [],
   "source": [
    "%matplotlib inline\n",
    "import matplotlib.pyplot as plt\n",
    "import numpy as np\n",
    "import pandas as pd\n",
    "import seaborn as sns\n",
    "from scipy.stats import multivariate_normal, norm, uniform\n",
    "from ipywidgets import interact, interactive\n",
    "\n",
    "from mpl_toolkits.mplot3d import axes3d\n",
    "from matplotlib import cm\n",
    "\n",
    "import hashlib\n",
    "  \n",
    "sns.set(style=\"dark\")\n",
    "plt.style.use(\"ggplot\")\n",
    "\n",
    "def get_hash(num, significance = 4):\n",
    "    num = round(num, significance)\n",
    "    \"\"\"Helper function for assessing correctness\"\"\"\n",
    "    return hashlib.md5(str(num).encode()).hexdigest()\n"
   ]
  },
  {
   "cell_type": "markdown",
   "metadata": {},
   "source": [
    "## Setup\n",
    "\n",
    "In this Lab you are given a two dimensional unnormalized density function $f(x,y)$ represented by `target_density` below. The goal of the 3 questions in this lab is to build up a sampler that can output samples from the distribution proportional to $f(x,y)$. \n",
    "\n",
    "In **Question 1** we will compute samples via *Rejection Sampling*. In part **1.a** we will build a sampler for a 1-dimensional projection of the density. In part **1.b** we will extend the approach to two dimensions.\n",
    "\n",
    "In **Question 2** we will compute samples via *Gibbs Sampling*. We will use the 1-D rejection sampler as a subroutine.\n",
    "\n",
    "In **Question 3** we will compute samples via *Metropolis-Hastings*. \n",
    "\n",
    "Finally we will compare the above methods.\n",
    "\n",
    "*Throughout this lab we will assume that our computers have access only to normal and uniform random variables.*"
   ]
  },
  {
   "cell_type": "code",
   "execution_count": 2,
   "metadata": {},
   "outputs": [],
   "source": [
    "# This is the target unnormalized density from which we would like to sample\n",
    "# Run this to define the function\n",
    "# No TODOs here\n",
    "@np.vectorize # <- decorator, makes function run faster\n",
    "def target_density(x, y):\n",
    "    mean1 = [1, 1.7]\n",
    "    mean2 = [2, 1.3]\n",
    "    mean3 = [1.5, 1.5]\n",
    "    mean4 = [2, 2.1]\n",
    "    mean5 = [1, 1.2]\n",
    "    cov1=0.2*np.array([[0.2, -0.05], [-0.05, 0.1]])\n",
    "    cov2 = 0.3*np.array([[0.1, 0.07], [0.07, 0.2]])\n",
    "    cov3= np.array([[0.1, 0], [0, 0.1]])\n",
    "    cov4 = 0.1*np.array([[0.3, 0.04], [0.04, 0.2]])\n",
    "    cov5 = 0.1*np.array([[0.4, -0.04], [-0.04, 0.2]])\n",
    "    return(multivariate_normal.pdf([x, y], mean=mean1, cov=cov1) + \n",
    "           multivariate_normal.pdf([x, y], mean=mean2, cov=cov2) +\n",
    "           2*multivariate_normal.pdf([x, y], mean=mean3, cov=cov3) +\n",
    "           0.5*multivariate_normal.pdf([x, y], mean=mean4, cov=cov4)+\n",
    "           0.5*multivariate_normal.pdf([x, y], mean=mean5, cov=cov5))"
   ]
  },
  {
   "cell_type": "markdown",
   "metadata": {},
   "source": [
    "#### Let's visualize this density. \n",
    "\n",
    "Run the cell below to see a 3D plot of the function along with a contour plot."
   ]
  },
  {
   "cell_type": "code",
   "execution_count": 3,
   "metadata": {},
   "outputs": [],
   "source": [
    "# No TODOs here, just run the cell to make plots\n",
    "# Create a meshgrid of coordinates\n",
    "coords = np.arange(0.5, 2.5, 0.02)\n",
    "X, Y = np.meshgrid(coords, coords)\n",
    "\n",
    "# Compute the value of the target density at all pairs of (x,y) values\n",
    "Z = target_density(X,Y)\n"
   ]
  },
  {
   "cell_type": "code",
   "execution_count": 4,
   "metadata": {},
   "outputs": [],
   "source": [
    "# Display the 3D plot of the target density\n",
    "fig = plt.figure(figsize=(15,6))\n",
    "\n",
    "ax0 = fig.add_subplot(121, projection='3d')\n",
    "ax1 = fig.add_subplot(122)\n",
    "\n",
    "surf = ax0.plot_surface(X,Y,Z, cmap=cm.plasma, linewidth=0, antialiased=False,alpha = 0.9,)\n",
    "\n",
    "# Customize the z axis.\n",
    "ax0.set_zlim(0, 7)\n",
    "ax0.set_xlabel(\"X\")\n",
    "ax0.set_ylabel(\"Y\")\n",
    "ax0.set_zlabel(\"Z\")\n",
    "ax0.set_title(\"3D plot of the target density\")\n",
    "\n",
    "# Rotate the axes: you can change these numbers in order to see the distribution from other angles\n",
    "ax0.view_init(50, 25)\n",
    "\n",
    "# Plot the contour plot of the density\n",
    "cont = ax1.contour(X,Y,Z, levels = 20, cmap=cm.plasma, linewidths=1)\n",
    "ax1.set_xlabel(\"X\")\n",
    "ax1.set_ylabel(\"Y\")\n",
    "ax1.set_title(\"Contour plot of the target density\")\n",
    "\n",
    "# Add a color bar which maps values to colors.\n",
    "fig.colorbar(surf, shrink=0.5, aspect=5, ax=ax1)\n",
    "plt.tight_layout()\n",
    "plt.show()"
   ]
  },
  {
   "cell_type": "markdown",
   "metadata": {},
   "source": [
    "Take a moment to examine the plots. Make sure you can see correspondances between each peak in the 3D plot on the left; and the \"high-altitude\" regions in the countour plot on the right.\n",
    "\n",
    "Next we will plot 1-dimensional projections of the target densities onto the $X$ and $Y$ axis. These correspond to conditional target distributions of the form $f(x, y=y')$ and $f(x=x', y)$."
   ]
  },
  {
   "cell_type": "code",
   "execution_count": 5,
   "metadata": {},
   "outputs": [],
   "source": [
    "# Do not modify\n",
    "# Run the cell below to define the plotting functions\n",
    "\n",
    "COORDINATES = np.arange(0, 3, 0.02)\n",
    "def plot_x_cond(y_val):\n",
    "    fig, axs = plt.subplots(1, 2)\n",
    "    fig.set_figheight(5)\n",
    "    fig.set_figwidth(12)\n",
    "    axs[0].contour(X,Y,Z, levels = 20, cmap=cm.plasma, alpha = 0.8, linewidths=0.8)\n",
    "    axs[0].axhline(y_val,  ls=\"--\", color = 'olive', lw = 2)\n",
    "    axs[0].set_xlabel(\"X\")\n",
    "    axs[0].set_ylabel(\"Y\")\n",
    "    axs[0].set_title(\"Contour plot of the target density\")\n",
    "    \n",
    "    axs[1].plot(COORDINATES, target_density(COORDINATES, y_val), color = 'olive')\n",
    "    axs[1].set_ylim(0,10)\n",
    "    axs[1].set_xlim(0,3)\n",
    "    axs[1].set_xlabel(\"X\")\n",
    "    axs[1].set_title(\"Conditional target density: f(x | y={:.1f})\".format(y_val))\n",
    "    plt.show()\n",
    "    \n",
    "def plot_y_cond(x_val):\n",
    "    fig, axs = plt.subplots(1, 2)\n",
    "    fig.set_figheight(5)\n",
    "    fig.set_figwidth(12)\n",
    "    axs[0].contour(X,Y,Z, levels = 20, cmap=cm.plasma, alpha = 0.8, linewidths=0.8)\n",
    "    axs[0].axvline(x_val,  ls=\"--\", color = 'olive', lw = 2)\n",
    "    axs[0].set_xlabel(\"X\")\n",
    "    axs[0].set_ylabel(\"Y\")\n",
    "    axs[0].set_title(\"Contour plot of the target density\")\n",
    "    \n",
    "    axs[1].plot(COORDINATES, target_density(x_val, COORDINATES), color = 'olive')\n",
    "    axs[1].set_ylim(0,10)\n",
    "    axs[1].set_xlim(0,3)\n",
    "    axs[1].set_xlabel(\"Y\")\n",
    "    axs[1].set_title(\"Conditional target density: f(y | x={:.1f})\".format(x_val))\n",
    "    plt.show()"
   ]
  },
  {
   "cell_type": "code",
   "execution_count": 6,
   "metadata": {},
   "outputs": [],
   "source": [
    "# Display interactive plot\n",
    "interactive_plot = interactive(plot_x_cond, y_val=(0, 3, 0.1), add_proposal=False)\n",
    "interactive_plot"
   ]
  },
  {
   "cell_type": "markdown",
   "metadata": {},
   "source": [
    "Set different values of `y_val`, observe the changes in the conditional target density."
   ]
  },
  {
   "cell_type": "code",
   "execution_count": 7,
   "metadata": {},
   "outputs": [],
   "source": [
    "# Display interactive plot\n",
    "interactive_plot = interactive(plot_y_cond, x_val=(0, 3, 0.1), add_proposal=False)\n",
    "interactive_plot"
   ]
  },
  {
   "cell_type": "markdown",
   "metadata": {},
   "source": [
    "Set different values of `x_val`, observe the changes in the conditional target density."
   ]
  },
  {
   "cell_type": "markdown",
   "metadata": {
    "deletable": false,
    "editable": false
   },
   "source": [
    "<!-- BEGIN QUESTION -->\n",
    "\n",
    "### A Quick Understanding Check:\n",
    "\n",
    "We said that $f$ is an unnormalized density function. What does this mean? How could we test whether or not the function is normalized?\n",
    "<!--\n",
    "BEGIN QUESTION\n",
    "name: q0i\n",
    "manual: true\n",
    "points: 1\n",
    "-->"
   ]
  },
  {
   "cell_type": "markdown",
   "metadata": {},
   "source": [
    "_Type your answer here, replacing this text._"
   ]
  },
  {
   "cell_type": "markdown",
   "metadata": {},
   "source": [
    "<!-- END QUESTION -->\n",
    "\n",
    "\n",
    "\n",
    "## Question 1. Rejection Sampling\n",
    "\n",
    "In this question, we will build a rejection sampler. First, let's review the basics. \n",
    "\n",
    "Assume we want to sample from an unnormalized target density $f(x)$, using a proposal distribution $Q$, with density $q(x)$. The proposal distribution is chosen such that we have access to samples from it. \n",
    "\n",
    "#### Rejection sampling proceeds as follows:\n",
    "\n",
    "- Find constant $c$, such that $cf(x)\\leq q(x)$ on the support\n",
    "- At each iteration:\n",
    "    - Sample $x_i \\sim Q$\n",
    "    - Compute the ratio $r = \\frac{c(f(x_i))}{q(x_i)} \\leq 1$\n",
    "    - Sample $\\gamma_i \\sim Uniform(0,1)$:\n",
    "        - `accept` the sample if $\\gamma_i \\leq r$: Add $x_i$ to the list of samples.\n",
    "        - `reject` the sample otherwise: do nothing\n",
    "        \n",
    "### 1.a Sample from the one-dimensional density $f(x, y=1.2)$\n",
    "Throughout part 1.a, we will restrict our attention to the range $[0,3]$ for simplicity. That way we can use Uniform(0,3) as our proposal distribution. Meaning that $q(x) = \\frac{1}{3} \\ \\forall x\\in[0,3]$."
   ]
  },
  {
   "cell_type": "code",
   "execution_count": 12,
   "metadata": {},
   "outputs": [],
   "source": [
    "# Create the target 1D density f(x, y = 1.2)\n",
    "def target_1D_density(x):\n",
    "    return(target_density(x, 1.2))"
   ]
  },
  {
   "cell_type": "markdown",
   "metadata": {
    "deletable": false,
    "editable": false
   },
   "source": [
    "Finish implementing the steps of the rejection sampling algorithm by filling in the following code.\n",
    "\n",
    "Hint: both scipy and numpy provide methods for drawing from a uniform distribution.\n",
    "\n",
    "<!--\n",
    "BEGIN QUESTION\n",
    "name: q1ai\n",
    "manual: false\n",
    "points: 0\n",
    "-->"
   ]
  },
  {
   "cell_type": "code",
   "execution_count": 13,
   "metadata": {},
   "outputs": [],
   "source": [
    "def sample_1D_proposed_distribution(N):\n",
    "    \"\"\" \n",
    "    Produces N samples from the Uniform(0,3) proposal distribution\n",
    "    \n",
    "    Inputs:\n",
    "        N : int, desired number of samples\n",
    "        \n",
    "    Outputs:\n",
    "        proposed_samples : an 1d-array of size N which contains N independent samples from the proposal\n",
    "    \"\"\"\n",
    "    ...\n",
    "\n",
    "@np.vectorize\n",
    "def compute_ratio_1D(proposed_sample, c):\n",
    "    \"\"\"\n",
    "    Computes the ratio between the scaled target density and proposal density evaluated at the \n",
    "    proposed sample point\n",
    "    \n",
    "    Inputs:\n",
    "        proposed_sample : float, proposed sample\n",
    "        c : float, constant scaling factor that ensures that the proposal density is above the target density\n",
    "        \n",
    "    Outputs:\n",
    "        ratio : float\n",
    "    \"\"\"\n",
    "    ...\n",
    "\n",
    "@np.vectorize\n",
    "def accept_proposal(ratio):\n",
    "    \"\"\" \n",
    "    Accepts or rejects a proposal with probability equal to ratio\n",
    "    \n",
    "    Inputs: \n",
    "        ratio: float, probability of acceptance\n",
    "    \n",
    "    Outputs:\n",
    "        accept: True/False, if True, accept the proposal\n",
    "    \"\"\"\n",
    "    ..."
   ]
  },
  {
   "cell_type": "markdown",
   "metadata": {},
   "source": [
    "You can use the following cell to test your functions to convince yourself that they work. "
   ]
  },
  {
   "cell_type": "code",
   "execution_count": 10,
   "metadata": {},
   "outputs": [],
   "source": [
    "# WRITE YOUR TEST CASES HERE"
   ]
  },
  {
   "cell_type": "markdown",
   "metadata": {
    "deletable": false,
    "editable": false
   },
   "source": [
    "Now we have all the ingredients for making a sampler:\n",
    "\n",
    "<!--\n",
    "BEGIN QUESTION\n",
    "name: q1aii\n",
    "manual: false\n",
    "points: 1\n",
    "-->"
   ]
  },
  {
   "cell_type": "code",
   "execution_count": 14,
   "metadata": {},
   "outputs": [],
   "source": [
    "def get_1D_samples(N, c): \n",
    "    \"\"\" \n",
    "    Produces samples from target_1D_density\n",
    "    \n",
    "    Inputs:\n",
    "        N : int, number of proposed_samples\n",
    "        c : float, constant scaling factor that ensures that the proposal density is above the target density\n",
    "        \n",
    "    Outputs:\n",
    "        rejection_samples : an 1d-array which contains independent samples from the target\n",
    "    \"\"\"\n",
    "    ..."
   ]
  },
  {
   "cell_type": "code",
   "execution_count": 15,
   "metadata": {
    "deletable": false,
    "editable": false
   },
   "outputs": [],
   "source": [
    "grader.check(\"q1aii\")"
   ]
  },
  {
   "cell_type": "markdown",
   "metadata": {},
   "source": [
    "From the interactive plots we made earlier, we can see that $f(x, y=1.2)$ is allways smaller than 5. Hence to make it smaller than $q(x) = 1/3$ we need to scale the target density by a factor $c \\leq \\frac{1}{3}\\cdot\\frac{1}{5} = 1/15$. \n",
    "\n",
    "#### Let's use $c=1/15$, compute target samples and plot their histogram"
   ]
  },
  {
   "cell_type": "code",
   "execution_count": 16,
   "metadata": {},
   "outputs": [],
   "source": [
    "# No TODOs here\n",
    "# Just run it once you passed the tests above\n",
    "\n",
    "fig = plt.figure(figsize = (6, 4))\n",
    "c = 1/15\n",
    "target_samples = get_1D_samples(1000, c)\n",
    "density_values =  target_1D_density(COORDINATES)*c\n",
    "plt.plot(COORDINATES, density_values, label='Target')\n",
    "plt.axhline(1/3, ls = '--', label = 'Proposal')\n",
    "n, bins, rects = plt.hist(target_samples, density = True, label=\"Accepted Samples\")\n",
    "max_height = np.max([r.get_height() for r in rects])\n",
    "for r in rects:\n",
    "    r.set_height(r.get_height()*np.max(density_values)/max_height)\n",
    "plt.legend()\n",
    "plt.xlim(0,3)\n",
    "plt.ylim(0,0.45)\n",
    "plt.show()"
   ]
  },
  {
   "cell_type": "markdown",
   "metadata": {},
   "source": [
    "#### Computing the acceptance ratio for varying scaling constants c"
   ]
  },
  {
   "cell_type": "code",
   "execution_count": 17,
   "metadata": {},
   "outputs": [],
   "source": [
    "# No TODOs here\n",
    "# Just run it and comment in the section below\n",
    "\n",
    "N = 1000\n",
    "c_values = [0.06, 0.05, 0.04, 0.03, 0.02, 0.01]\n",
    "for c in c_values:\n",
    "    # compute target samples\n",
    "    target_samples = get_1D_samples(N, c)\n",
    "    acceptance_percentage = 100*len(target_samples)/N\n",
    "    print(\"For c = {:.2f}, the acceptance percentage is {:.1f}%\".format(c, acceptance_percentage))"
   ]
  },
  {
   "cell_type": "markdown",
   "metadata": {
    "deletable": false,
    "editable": false
   },
   "source": [
    "<!-- BEGIN QUESTION -->\n",
    "\n",
    "#### In the cell below explain why the accepted percentage decreases as $c$ decreases:\n",
    "\n",
    "<!--\n",
    "BEGIN QUESTION\n",
    "name: q1aiii\n",
    "manual: true\n",
    "points: 1\n",
    "-->"
   ]
  },
  {
   "cell_type": "markdown",
   "metadata": {},
   "source": [
    "_Type your answer here, replacing this text._"
   ]
  },
  {
   "cell_type": "markdown",
   "metadata": {},
   "source": [
    "<!-- END QUESTION -->\n",
    "\n",
    "\n",
    "\n",
    "### 1.b Sample from the two-dimensional density $f(x, y)$\n",
    "\n",
    "In two dimensions Rejection Sampling is nearly identical to the 1-dimension case:\n",
    "\n",
    "- Find constant $c$, such that $cf(x, y)\\leq q(x, y)$ on the support\n",
    "- At each iteration:\n",
    "    - Sample $(x_i, y_i) \\sim Q$\n",
    "    - Compute the ratio $r = \\frac{c(f(x_i, y_i))}{q(x_i, y_i)} \\leq 1$\n",
    "    - Sample $\\gamma_i \\sim Uniform(0,1)$:\n",
    "        - `accept` the sample if $\\gamma_i \\leq r$: add $(x_i, y_i)$ to the list of samples.\n",
    "        - `reject` the sample otherwise: do nothing\n",
    "\n",
    "Throughout part 1.b we will consider $(x, y)\\sim Uniform(0,3)\\times Uniform(0,3)$ as our proposal distribution. Meaning that $q(x, y) = \\frac{1}{9}\\ \\forall x, y\\in[0,3]$"
   ]
  },
  {
   "cell_type": "markdown",
   "metadata": {
    "deletable": false,
    "editable": false
   },
   "source": [
    "Fill in the 2-d ratio calculation:\n",
    "\n",
    "<!--\n",
    "BEGIN QUESTION\n",
    "name: q1bi\n",
    "manual: false\n",
    "points: 0\n",
    "-->"
   ]
  },
  {
   "cell_type": "code",
   "execution_count": 18,
   "metadata": {},
   "outputs": [],
   "source": [
    "@np.vectorize\n",
    "def compute_ratio_2D(proposed_sample_x, proposed_sample_y, c):\n",
    "    \"\"\"\n",
    "    Computes the ratio between the scaled target density and proposal density evaluated at the \n",
    "    proposed sample point\n",
    "    \n",
    "    Inputs:\n",
    "        proposed_sample_x : float, x components of the proposed sample point\n",
    "        proposed_sample_y : float, y components of the proposed sample point\n",
    "        c : float, constant scaling factor that ensures that the proposal density is above the target density\n",
    "        \n",
    "    Outputs:\n",
    "        ratio : float\n",
    "    \"\"\"\n",
    "    ratio = ...\n",
    "    assert(ratio <= 1)\n",
    "    return(ratio)"
   ]
  },
  {
   "cell_type": "markdown",
   "metadata": {},
   "source": [
    "Use the following cell to convince yourself that your code is correct:"
   ]
  },
  {
   "cell_type": "code",
   "execution_count": 16,
   "metadata": {},
   "outputs": [],
   "source": [
    "# WRITE YOUR TEST CASES HERE"
   ]
  },
  {
   "cell_type": "markdown",
   "metadata": {
    "deletable": false,
    "editable": false
   },
   "source": [
    "Now we have all the ingredients for making the 2-d sampler.\n",
    "\n",
    "<!--\n",
    "BEGIN QUESTION\n",
    "name: q1bii\n",
    "manual: false\n",
    "points: 1\n",
    "-->"
   ]
  },
  {
   "cell_type": "code",
   "execution_count": 19,
   "metadata": {},
   "outputs": [],
   "source": [
    "# No TODOs here, just run the 2D version of the functions we built in 1.a\n",
    "def get_2D_samples(N, c): \n",
    "    \"\"\" \n",
    "    Produces samples from target_density\n",
    "    \n",
    "    Inputs:\n",
    "        N : int, number of proposed_samples\n",
    "        c : float, constant scaling factor that ensures that the proposal density is above the target density\n",
    "        \n",
    "    Outputs:\n",
    "        rejection_samples : ndarray of which contains independent samples from the target\n",
    "    \"\"\"\n",
    "    proposed_samples_x = sample_1D_proposed_distribution(N)\n",
    "    proposed_samples_y = sample_1D_proposed_distribution(N)\n",
    "    ratios = compute_ratio_2D(proposed_samples_x, proposed_samples_y, c)\n",
    "    accept_array = accept_proposal(ratios)\n",
    "    proposed_samples = np.concatenate((proposed_samples_x.reshape(N,1), proposed_samples_y.reshape(N,1)), axis = 1)\n",
    "    rejection_samples = proposed_samples[accept_array]\n",
    "    return(rejection_samples)"
   ]
  },
  {
   "cell_type": "code",
   "execution_count": 20,
   "metadata": {
    "deletable": false,
    "editable": false
   },
   "outputs": [],
   "source": [
    "grader.check(\"q1bii\")"
   ]
  },
  {
   "cell_type": "markdown",
   "metadata": {},
   "source": [
    "From the contour plot we made previously, we can see that $f(x, y=1.2)$ is allways smaller than 7.4. Hence to make it smaller than $q(x) = 1/9$ we need to scale the target density by a factor $c \\leq \\frac{1}{7.4}\\cdot\\frac{1}{8} = 0.015$. \n",
    "\n",
    "#### Let's use $c=0.015$, compute target samples and plot them on top the contour lines"
   ]
  },
  {
   "cell_type": "code",
   "execution_count": 21,
   "metadata": {},
   "outputs": [],
   "source": [
    "fig = plt.figure(figsize=(6,4))\n",
    "\n",
    "# Plot the contour plot of the density\n",
    "cont = plt.contour(X,Y,Z, levels = 20, cmap=cm.plasma, linewidths=1, alpha = 0.8)\n",
    "plt.xlabel(\"X\")\n",
    "plt.ylabel(\"Y\")\n",
    "plt.title(\"Scatterplot of samples obtained via Rejection Sampling\")\n",
    "\n",
    "# Add sample points obtained via rejection sampling\n",
    "c = 1/72\n",
    "target_samples = get_2D_samples(3000, c)\n",
    "plt.scatter(target_samples[:,0], target_samples[:,1], c='b', alpha = 1, s = 10, label = 'Samples')\n",
    "\n",
    "plt.legend()\n",
    "plt.tight_layout()\n",
    "plt.show()"
   ]
  },
  {
   "cell_type": "code",
   "execution_count": 22,
   "metadata": {},
   "outputs": [],
   "source": [
    "# No need to modify this\n",
    "# just run it and comment in the section below\n",
    "\n",
    "N = 3000\n",
    "c_values = [0.015, 0.01, 0.005, 0.001]\n",
    "for c in c_values:\n",
    "    # compute target samples\n",
    "    target_samples = get_2D_samples(N, c)\n",
    "    acceptance_percentage = 100*len(target_samples)/N\n",
    "    print(\"For c = {:.3f}, the acceptance percentage is {:.1f}%\".format(c, acceptance_percentage))"
   ]
  },
  {
   "cell_type": "markdown",
   "metadata": {
    "deletable": false,
    "editable": false
   },
   "source": [
    "<!-- BEGIN QUESTION -->\n",
    "\n",
    "#### In the cell below explain why the accepted percentage when sampling from 2D distribution is so much smaller than sampling from the 1D version in 1.a.\n",
    "\n",
    "<!--\n",
    "BEGIN QUESTION\n",
    "name: q1biii\n",
    "manual: true\n",
    "points: 1\n",
    "-->"
   ]
  },
  {
   "cell_type": "markdown",
   "metadata": {},
   "source": [
    "_Type your answer here, replacing this text._"
   ]
  },
  {
   "cell_type": "markdown",
   "metadata": {},
   "source": [
    "<!-- END QUESTION -->\n",
    "\n",
    "\n",
    "\n",
    "## Question 2. Gibbs Sampling\n",
    "\n",
    "In this question, we will build a Gibbs sampler and apply it to the same density. First, let's go over the basics of Gibbs Sampling.\n",
    "\n",
    "Assume we want to sample from an unnormalized target density $f(x, y)$. \n",
    "\n",
    "#### Gibbs Sampling proceeds as follows:\n",
    "\n",
    "- Start at an initial point $(x_0, y_0)$\n",
    "- For `i` in `number of iterations`:\n",
    "    - Condition on $y=y_{i-1}$: Sample $x_i \\sim f(x| y=y_{i-1})$ \n",
    "        - Add $(x_i, y_{i-1})$ to the list of samples\n",
    "    - Condition on $x=x_{i}$: : Sample $y_i \\sim f(y| x=x_{i})$ \n",
    "        - Add $(x_i, y_{i})$ to the list of samples\n",
    "    \n",
    "In many problems we can sample the univariate distributions directly. In this case we don't know how to sample them directly, but we can use the 1-D rejection sampler that we computed in 1.a.\n",
    "\n",
    "In the cell below, we wrote helper functions that sample from the conditionals aboves. They are essentially the same function you wrote in 1.a, just slightly modified such that we perform rejection sampling until we get one valid sample."
   ]
  },
  {
   "cell_type": "code",
   "execution_count": 23,
   "metadata": {},
   "outputs": [],
   "source": [
    "# No TODOs here:\n",
    "# Just look at these helper functions and make sure you understand the syntax\n",
    "\n",
    "def sample_x_cond(fixed_y_val):\n",
    "    \"\"\" \n",
    "    Produces one sample from x_i ~ f(x | y=fixed_y_val)\n",
    "    \n",
    "    Inputs:\n",
    "        fixed_y_val : float, current value of y, on which we condition\n",
    "    \n",
    "    Outputs:\n",
    "        x_sample: float, one sample from x_i ~ f(x, y=fixed_y_val)\n",
    "        num_samples : int, number of tries until we accepted a sample\n",
    "        \n",
    "    \"\"\"\n",
    "    def conditional_density(x):\n",
    "        return(target_density(x, fixed_y_val))\n",
    "    x_sample = None\n",
    "    num_samples = 0\n",
    "    c = 0.33/(0.2+max(conditional_density(np.arange(0.5, 2.5, 0.05)))) # <- we are cheating a bit here by \n",
    "                                                                       # looking for a tight c value\n",
    "    while x_sample is None:\n",
    "        proposed_sample = sample_1D_proposed_distribution(1)\n",
    "        num_samples += 1\n",
    "        ratio = conditional_density(proposed_sample)*3*c\n",
    "        assert(ratio <= 1)\n",
    "        accept = accept_proposal(ratio)\n",
    "        if accept:\n",
    "            x_sample = proposed_sample[0]\n",
    "    return(x_sample, num_samples)\n",
    "\n",
    "\n",
    "def sample_y_cond(fixed_x_val):\n",
    "    \"\"\" \n",
    "    Produces one sample from y_i ~ f(y | x=fixed_x_val)\n",
    "    \n",
    "    Inputs:\n",
    "        fixed_x_val : float, current value of y, on which we condition\n",
    "    \n",
    "    Outputs:\n",
    "        y_sample: float, one sample from y_i ~ f(y | x=fixed_x_val)\n",
    "        num_samples : int, number of tries until we accepted a sample\n",
    "        \n",
    "    \"\"\"\n",
    "    def conditional_density(y):\n",
    "        return(target_density(fixed_x_val, y))\n",
    "    y_sample = None\n",
    "    num_samples = 0\n",
    "    c = 0.33/(0.2+max(conditional_density(np.arange(0.5, 2.5, 0.05))))\n",
    "    while y_sample is None:\n",
    "        proposed_sample = sample_1D_proposed_distribution(1)\n",
    "        num_samples += 1\n",
    "        ratio = conditional_density(proposed_sample)*3*c\n",
    "        assert(ratio <= 1)\n",
    "        accept = accept_proposal(ratio)\n",
    "        if accept:\n",
    "            y_sample = proposed_sample[0]\n",
    "    return(y_sample, num_samples)\n"
   ]
  },
  {
   "cell_type": "markdown",
   "metadata": {
    "deletable": false,
    "editable": false
   },
   "source": [
    "### 2.a: Build a Gibbs sampler using the helper functions above\n",
    "`Note`: Don't forget that at each iteration the Gibbs sampler adds two samples to the list of samples: $(x_i, y_{i-1})$ and $(x_i, y_{i})$\n",
    "\n",
    "`Hint`: If you cannot pass the test, try making a simple test case with `N=2` and adding some print statements to your code.\n",
    "\n",
    "<!--\n",
    "BEGIN QUESTION\n",
    "name: q2a\n",
    "manual: false\n",
    "points: 1\n",
    "-->"
   ]
  },
  {
   "cell_type": "code",
   "execution_count": 24,
   "metadata": {},
   "outputs": [],
   "source": [
    "def get_2D_Gibbs_samples(N, x_0, y_0):\n",
    "    \"\"\"\n",
    "    Produces N samples from the target density using Gibbs Sampling\n",
    "    \n",
    "    Inputs: \n",
    "        N : desired number of samples\n",
    "        x_0, y_0 : floats, the coordinates of the starting point\n",
    "        \n",
    "    Outputs:\n",
    "        gibbs_samples : array of dimension (N, 2) where each row is a sample from the target distribution\n",
    "                        of the form (x_i, y_i)\n",
    "        num_samples : total number of samples required\n",
    "    \"\"\"\n",
    "    gibbs_samples = [] # Each entry corresponds to a (x_i, y_i)\n",
    "    num_samples = 0 # Add the number of samples to this variable, note this is not equal to N since rejection sampling\n",
    "                    # does not accept every sample\n",
    "    x_curr = x_0 # Current value of x, initialized to x_0\n",
    "    y_curr = y_0 # Current value of y, initialized to y_0\n",
    "    \n",
    "    for i in range(N//2): # The range is N//2 since we are generating two gibbs samples in one iteration\n",
    "        ...\n",
    "        \n",
    "    return(gibbs_samples, num_samples)"
   ]
  },
  {
   "cell_type": "code",
   "execution_count": 25,
   "metadata": {
    "deletable": false,
    "editable": false
   },
   "outputs": [],
   "source": [
    "grader.check(\"q2a\")"
   ]
  },
  {
   "cell_type": "markdown",
   "metadata": {},
   "source": [
    "### 2.b : Path traced by the Gibbs sampler\n",
    "Run the code below to overlay the path traced by the Gibbs Sampler"
   ]
  },
  {
   "cell_type": "code",
   "execution_count": 26,
   "metadata": {},
   "outputs": [],
   "source": [
    "# Do not modify\n",
    "# Just run this once you've passed the validation tests above\n",
    "N = 20\n",
    "target_samples, total_samples = get_2D_Gibbs_samples(N, 1, 1)\n",
    "target_samples = np.array(target_samples)\n",
    "\n",
    "fig = plt.figure(figsize=(12,8))\n",
    "\n",
    "# Plot the contour plot of the density\n",
    "cont = plt.contour(X,Y,Z, levels = 20, cmap=cm.plasma, linewidths=1, alpha = 0.8)\n",
    "plt.xlabel(\"X\")\n",
    "plt.ylabel(\"Y\")\n",
    "plt.title(\"Path of the Gibbs Sampler\")\n",
    "\n",
    "# Add sample points obtained via Gibbs sampling\n",
    "plt.scatter(target_samples[:,0], target_samples[:,1], c='b', alpha = 1, s=50, label = 'Samples')\n",
    "for i in range(N):\n",
    "    plt.annotate(i, (target_samples[i,0], target_samples[i,1]), fontsize = 20)\n",
    "plt.plot(target_samples[:,0], target_samples[:,1], c='r', alpha = 1, label = 'Path of the Gibbs Sampler')\n",
    "\n",
    "plt.legend()\n",
    "plt.tight_layout()\n",
    "plt.show()"
   ]
  },
  {
   "cell_type": "markdown",
   "metadata": {
    "deletable": false,
    "editable": false
   },
   "source": [
    "<!-- BEGIN QUESTION -->\n",
    "\n",
    "#### Inspect the scatter plot above. Trace the Gibbs sampler path from the initial point (labeled 0) to the final point. What do you observe? Why do you think that's the case.\n",
    "\n",
    "<!--\n",
    "BEGIN QUESTION\n",
    "name: q2b\n",
    "manual: true\n",
    "points: 1\n",
    "-->"
   ]
  },
  {
   "cell_type": "markdown",
   "metadata": {},
   "source": [
    "_Type your answer here, replacing this text._"
   ]
  },
  {
   "cell_type": "markdown",
   "metadata": {},
   "source": [
    "<!-- END QUESTION -->\n",
    "\n",
    "\n",
    "\n",
    "### 2.c: 'Efficiency' of Gibbs Sampling"
   ]
  },
  {
   "cell_type": "code",
   "execution_count": 27,
   "metadata": {},
   "outputs": [],
   "source": [
    "# Let's compute 1000 Gibbs samples and compute how many times the rejection sampling subroutine \n",
    "# accepted the proposed sample (running this might take a little while)\n",
    "N = 1000\n",
    "target_samples, total_samples = get_2D_Gibbs_samples(N, 1, 1)\n",
    "acceptance_rate = N/total_samples*100\n",
    "print(\"The acceptance rate for Gibbs Sampling is {:.1f}%\".format(acceptance_rate))"
   ]
  },
  {
   "cell_type": "markdown",
   "metadata": {
    "deletable": false,
    "editable": false
   },
   "source": [
    "<!-- BEGIN QUESTION -->\n",
    "\n",
    "#### How does Gibbs Sampling compare to vanilla Rejection Sampling from 2b? Is this approach more efficient or less efficient? Why do you think that's the case?\n",
    "\n",
    "<!--\n",
    "BEGIN QUESTION\n",
    "name: q2c\n",
    "manual: true\n",
    "points: 1\n",
    "-->"
   ]
  },
  {
   "cell_type": "markdown",
   "metadata": {},
   "source": [
    "_Type your answer here, replacing this text._"
   ]
  },
  {
   "cell_type": "markdown",
   "metadata": {},
   "source": [
    "<!-- END QUESTION -->\n",
    "\n",
    "\n",
    "\n",
    "## Question 3. Metropolis Hastings\n",
    "\n",
    "In this final question, we will build a Metropolis-Hastings sampler. First, let's go over the basics of Metropolis-Hastings Sampling. \n",
    "\n",
    "Assume we want to sample from an unnormalized target density $f(x, y)$. \n",
    "\n",
    "#### In this question we will consider a Random-Walk Metropolis Hasting Algorithm. The algorithm proceeds as follows:\n",
    "\n",
    "- Start at an initial point $(x_0, y_0)$\n",
    "- For `i` in `number of iterations`:\n",
    "    - Condition on $(x,y)=(x_{i-1},y_{i-1})$. Define proposal distribution $Q(x, y| x_{i-1},y_{i-1}):\\ \\ \\begin{bmatrix} x\\\\ y\\end{bmatrix}\\sim Normal\\left(\\begin{bmatrix} x_{i-1}\\\\ y_{i-1}\\end{bmatrix}, \\sigma^2 I\\right)$\n",
    "    - Sample $(x',y') \\sim Q(x, y| x_{i-1},y_{i-1})$ \n",
    "    - Compute the ratio $r = \\frac{f(x', y')}{f(x_{i-1},y_{i-1})} \\frac{q(x_{i-1},y_{i-1}|x', y')}{q(x', y'|x_{i-1},y_{i-1})} =  \\frac{f(x', y')}{f(x_{i-1},y_{i-1})}$,\n",
    "        - If $r \\geq  1$: `move` : $(x_i, y_i) = (x', y')$ _(we move to the proposed location)_\n",
    "        - If $r \\leq  1$: `move` with probability $r$, `stay` with probability $1-r$, this is equivalent to:\n",
    "            - Sample $\\gamma_i \\sim Uniform (0,1)$:\n",
    "                 $\\cdot \\text{ if } \\gamma_i \\leq r, \\textbf{ move: } (x_i, y_i) = (x', y') \\\\\n",
    "                 \\cdot \\text{otherwise,} \\textbf{ stay: } (x_i, y_i) = (x_{i-1}, y_{i-1})$\n",
    "    - Add $(x_i, y_i)$ to the list of samples\n",
    "    \n",
    "    \n",
    "`Note`: in step 3, when computing the ratio $r$ we can cancel out the $q$ terms. We can do that because the proposal distribution is symmetric, meaning that $q(x_{i-1},y_{i-1}|x', y')=q(x', y'|x_{i-1},y_{i-1})$"
   ]
  },
  {
   "cell_type": "markdown",
   "metadata": {
    "deletable": false,
    "editable": false
   },
   "source": [
    "<!-- BEGIN QUESTION -->\n",
    "\n",
    "#### Describe in words how the proposal distribution goes from a previous sample to a new proposed sample.\n",
    "\n",
    "<!--\n",
    "BEGIN QUESTION\n",
    "name: q3i\n",
    "manual: true\n",
    "points: 1\n",
    "-->"
   ]
  },
  {
   "cell_type": "markdown",
   "metadata": {},
   "source": [
    "_Type your answer here, replacing this text._"
   ]
  },
  {
   "cell_type": "markdown",
   "metadata": {
    "deletable": false,
    "editable": false
   },
   "source": [
    "<!-- END QUESTION -->\n",
    "\n",
    "<!-- BEGIN QUESTION -->\n",
    "\n",
    "#### Describe in words what the ratio `r` represents.\n",
    "\n",
    "<!--\n",
    "BEGIN QUESTION\n",
    "name: q3ii\n",
    "manual: true\n",
    "points: 1\n",
    "-->"
   ]
  },
  {
   "cell_type": "markdown",
   "metadata": {},
   "source": [
    "_Type your answer here, replacing this text._"
   ]
  },
  {
   "cell_type": "markdown",
   "metadata": {},
   "source": [
    "<!-- END QUESTION -->\n",
    "\n",
    "\n",
    "\n",
    "We implement the MH sampler for you below. Take some time to look at the code."
   ]
  },
  {
   "cell_type": "code",
   "execution_count": 28,
   "metadata": {},
   "outputs": [],
   "source": [
    "# No TODOs here: we are providing all the functions to you\n",
    "# Spend some time examining the code and the algorithm described above\n",
    "\n",
    "def sample_proposed_normal_distribution(mean, sigma_squared):\n",
    "    \"\"\" \n",
    "    Produces a sample from the Uniform(0,3) proposal distribution\n",
    "    \n",
    "    Inputs:\n",
    "        mean : array of length 2, containing the mean of the proposal distributions\n",
    "        sigma_squared : float, the variance of the proposal distribution\n",
    "        \n",
    "    Outputs:\n",
    "        proposed_sample : array of size 2 which contains a sample (x, y) from the proposal\n",
    "    \"\"\"\n",
    "    \n",
    "    proposed_sample = multivariate_normal.rvs(mean = mean, cov = sigma_squared)\n",
    "    return(proposed_sample)\n",
    "\n",
    "def compute_ratio(proposed_sample, current_sample):\n",
    "    \"\"\"\n",
    "    Computes the ratio r:\n",
    "    \n",
    "    Inputs: \n",
    "        proposed_sample : array of size 2 which contains sample (x, y) from the proposal\n",
    "        current_sample : array of size 2 which contains the current (x, y) sample\n",
    "    \"\"\"\n",
    "    ratio = target_density(*proposed_sample)/target_density(*current_sample)\n",
    "    return(ratio)\n",
    "    \n",
    "def move_now(ratio):\n",
    "    \"\"\" \n",
    "    Decides to move to the proposed location, or stay at the current location\n",
    "    \n",
    "    Inputs: \n",
    "        ratio: float\n",
    "    \n",
    "    Outputs:\n",
    "        move: True/False, if True, move to the proposed locatio,\n",
    "                          if False, stay at the current location\n",
    "    \"\"\"\n",
    "    if ratio >= 1:\n",
    "        move = True\n",
    "        return(move)\n",
    "    else:\n",
    "        gamma = uniform.rvs(0, 1)\n",
    "        move = gamma <= ratio # TODO: fill in\n",
    "        return(move)"
   ]
  },
  {
   "cell_type": "code",
   "execution_count": 29,
   "metadata": {},
   "outputs": [],
   "source": [
    "# No TODOs here: Just run the cell to define the function\n",
    "\n",
    "def get_2D_MH_samples(N, x_0, y_0, sigma_squared):\n",
    "    \"\"\"\n",
    "    Produces N sampled from the target density using Gibbs Sampling\n",
    "    \n",
    "    Inputs: \n",
    "        N : desired number of samples\n",
    "        x_0, y_0 : floats, the coordinates of the starting point\n",
    "        sigma_squared : float, the variance of the proposal distribution\n",
    "        \n",
    "    Outputs:\n",
    "        MH_samples : array of dimension (N, 2) where each row is a sample from the target distribution\n",
    "                        of the form (x_i, y_i)\n",
    "        num_moves : number of times the MH algorithm moved to a new point\n",
    "    \"\"\"\n",
    "    MH_samples = []\n",
    "    current_sample = [x_0, y_0]\n",
    "    num_moves = 0\n",
    "    for i in range(N):\n",
    "        proposed_sample = sample_proposed_normal_distribution(current_sample, sigma_squared)\n",
    "        ratio = compute_ratio(proposed_sample, current_sample)\n",
    "        if move_now(ratio):\n",
    "            current_sample = proposed_sample\n",
    "            num_moves += 1\n",
    "        MH_samples.append(current_sample)\n",
    "    return(MH_samples, num_moves)"
   ]
  },
  {
   "cell_type": "markdown",
   "metadata": {},
   "source": [
    "#### Run the code below to compute Metropolis Hastings samples for proposal distribution with different variance levels. We overlay the samples on top of the usual contour plots."
   ]
  },
  {
   "cell_type": "code",
   "execution_count": 30,
   "metadata": {},
   "outputs": [],
   "source": [
    "# No TODOs here: Just run the code to create the plots\n",
    "# Spend some time investigating the code\n",
    "N = 1000\n",
    "sigma_squared_values = [0.0001, 0.001, 0.3, 20]\n",
    "initial_point = [1, 1.75]\n",
    "\n",
    "fig, axs = plt.subplots(2, 2)\n",
    "fig.set_figheight(8)\n",
    "fig.set_figwidth(12)\n",
    "\n",
    "itr = 0\n",
    "for i in range(2):\n",
    "    for j in range(2):\n",
    "        sigma_squared = sigma_squared_values[itr]\n",
    "        target_samples, num_moves = get_2D_MH_samples(N, *initial_point, sigma_squared)\n",
    "        # Convert to numpy array\n",
    "        target_samples = np.array(target_samples)\n",
    "\n",
    "        # Plot the contour plot of the density\n",
    "        cont = axs[i,j].contour(X,Y,Z, levels = 20, cmap=cm.plasma, linewidths=1, alpha = 0.8)\n",
    "        # Add sample points obtained via MH sampling\n",
    "        axs[i,j].scatter(target_samples[:,0], target_samples[:,1], c='b', alpha = 0.2, s=20, label = 'Samples')\n",
    "        \n",
    "        axs[i,j].set_xlabel(\"X\")\n",
    "        axs[i,j].set_ylabel(\"Y\")\n",
    "        axs[i,j].set_title(\"$\\\\sigma^2 = $ {}. Metropolis Hastings moved {} times\".format(sigma_squared, num_moves))\n",
    "        axs[i,j].legend()\n",
    "        itr += 1\n",
    "plt.tight_layout()\n",
    "plt.show()"
   ]
  },
  {
   "cell_type": "markdown",
   "metadata": {
    "deletable": false,
    "editable": false
   },
   "source": [
    "<!-- BEGIN QUESTION -->\n",
    "\n",
    "#### `TODO`: Examine the 4 plots above. Each plot contains 1000 Metropolis-Hastongs samples, by considering proposal distributions with different variances. What do you observe? \n",
    "\n",
    "- Why do samples stay clustered close to each-other for small value of $\\sigma^2$?\n",
    "- Why does the MH algorithm have so much fewer moves when the value of $\\sigma^2$?\n",
    "- Which value of $\\sigma^2$ would you choose out of the above and why?\n",
    "\n",
    "<!--\n",
    "BEGIN QUESTION\n",
    "name: q3iii\n",
    "manual: true\n",
    "points: 1\n",
    "-->"
   ]
  },
  {
   "cell_type": "markdown",
   "metadata": {},
   "source": [
    "_Type your answer here, replacing this text._"
   ]
  },
  {
   "cell_type": "markdown",
   "metadata": {
    "deletable": false,
    "editable": false
   },
   "source": [
    "<!-- END QUESTION -->"
   ]
  },
  {
   "cell_type": "code",
   "execution_count": 31,
   "metadata": {},
   "outputs": [],
   "source": [
    "import matplotlib.image as mpimg\n",
    "img = mpimg.imread('baby_seal.png')\n",
    "imgplot = plt.imshow(img)\n",
    "imgplot.axes.get_xaxis().set_visible(False)\n",
    "imgplot.axes.get_yaxis().set_visible(False)\n",
    "plt.show()\n",
    "print('Congrats! You made it to the end of the lab!!!')"
   ]
  },
  {
   "cell_type": "markdown",
   "metadata": {
    "deletable": false,
    "editable": false
   },
   "source": [
    "---\n",
    "\n",
    "To double-check your work, the cell below will rerun all of the autograder tests."
   ]
  },
  {
   "cell_type": "code",
   "execution_count": 32,
   "metadata": {
    "deletable": false,
    "editable": false
   },
   "outputs": [],
   "source": [
    "grader.check_all()"
   ]
  },
  {
   "cell_type": "markdown",
   "metadata": {
    "deletable": false,
    "editable": false
   },
   "source": [
    "## Submission\n",
    "\n",
    "Make sure you have run all cells in your notebook in order before running the cell below, so that all images/graphs appear in the output. The cell below will generate a zip file for you to submit. **Please save before exporting!**"
   ]
  },
  {
   "cell_type": "code",
   "execution_count": null,
   "metadata": {
    "deletable": false,
    "editable": false
   },
   "outputs": [],
   "source": [
    "# Save your notebook first, then run this cell to export your submission.\n",
    "grader.export()"
   ]
  }
 ],
 "metadata": {
  "kernelspec": {
   "display_name": "Python 3.8.12 ('m1_tf3')",
   "language": "python",
   "name": "python3"
  },
  "language_info": {
   "codemirror_mode": {
    "name": "ipython",
    "version": 3
   },
   "file_extension": ".py",
   "mimetype": "text/x-python",
   "name": "python",
   "nbconvert_exporter": "python",
   "pygments_lexer": "ipython3",
   "version": "3.8.12"
  },
  "vscode": {
   "interpreter": {
    "hash": "5aa7e46ca2034a31eb2def7e0666e2a45a309effbbb95578b9b862b165f42bf8"
   }
  }
 },
 "nbformat": 4,
 "nbformat_minor": 4
}
