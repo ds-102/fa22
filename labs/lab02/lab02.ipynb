{
 "cells": [
  {
   "cell_type": "code",
   "execution_count": null,
   "source": [
    "# Initialize Otter\n",
    "import otter\n",
    "grader = otter.Notebook(\"lab02.ipynb\")"
   ],
   "outputs": [],
   "metadata": {
    "deletable": false,
    "editable": false
   }
  },
  {
   "cell_type": "code",
   "execution_count": 103,
   "source": [
    "# Initialize Otter\n",
    "import otter\n",
    "grader = otter.Notebook(\"lab02.ipynb\")"
   ],
   "outputs": [],
   "metadata": {
    "deletable": false,
    "editable": false
   }
  },
  {
   "cell_type": "markdown",
   "source": [
    "# Lab 2:  Loss and risk\n",
    "Welcome to the second Data 102 lab! \n",
    "\n",
    "The goal of this lab is to introduce loss functions in hypothesis testing problems.\n",
    "\n",
    "The code and responses you need to fill in are represented by `...`. There is additional documentation for each part as you go along. \n",
    "\n",
    "## Collaboration Policy\n",
    "Data science is a collaborative activity. While you may talk with others about the labs, we ask that you **write your solutions individually**. If you do discuss the assignments with others please **include their names** in the cell below.\n",
    "\n",
    "## Submission\n",
    "**NOTE: This lab will be submitted using an auto-grader. Therefore, the submission instructions for this lab are different than before.**\n",
    "\n",
    "To submit the lab: \n",
    "1. Navigate to Kernel > Restart & Run All. Ensure that all public test cases pass locally. \n",
    "2. Save your notebook under File > Save and Checkpoint. If you do not save your notebook, then you might run into issues with the downloaded .zip file.\n",
    "3. Run the very last cell, which generates a .zip file for you to download to your local machine. Click the “here” button to download the .zip file. You may receive an error that the .zip file was unable to be created because there was an issue with PDF generation. You need to ensure that you’ve answered all of the questions that require a manual response.\n",
    "4. If your work downloads as several independent files rather than as a .zip, you are likely using Safari on a Mac. Follow these instructions to make sure you can download your work as a zip: https://macreports.com/how-to-download-zip-files-without-unzipping/\n",
    "5. Upload this .zip to the correct assignment on Gradescope. After submitting, the autograder built-in to the Gradescope assignment will tell you which public test cases you’ve passed and failed. There are no hidden test cases.\n",
    "\n",
    "**For full credit, this assignment should be completed and submitted before Wednesday, September 14, 2022 at 11:59 PM. PT**"
   ],
   "metadata": {
    "tags": []
   }
  },
  {
   "cell_type": "markdown",
   "source": [
    "## Collaborators\n",
    "Write the names of your collaborators in this cell.\n",
    "\n",
    "`<Collaborator Name> <Collaborator e-mail>`"
   ],
   "metadata": {
    "tags": []
   }
  },
  {
   "cell_type": "code",
   "execution_count": 104,
   "source": [
    "import matplotlib.pyplot as plt\n",
    "import numpy as np\n",
    "import pandas as pd\n",
    "import seaborn as sns\n",
    "from scipy.stats import norm\n",
    "import itertools\n",
    "from ipywidgets import interact, interactive\n",
    "\n",
    "import hashlib\n",
    "%matplotlib inline\n",
    "\n",
    "sns.set(style=\"dark\")\n",
    "plt.style.use(\"ggplot\")\n",
    "\n",
    "def get_hash(num):\n",
    "    \"\"\"Helper function for assessing correctness\"\"\"\n",
    "    return hashlib.md5(str(num).encode()).hexdigest()"
   ],
   "outputs": [],
   "metadata": {}
  },
  {
   "cell_type": "markdown",
   "source": [
    "# Question 1: Custom Loss Functions for Hypothesis Testing\n",
    "\n",
    "The first question looks at a medical diagnostic decision. For each person that undergoes testing, the null hypothesis is that they don't have the virus, and the alternative is that they do.\n",
    "\n",
    "_The null hypothesis_ $H_0$: Person $X$ does not have the virus.\n",
    "\n",
    "_The alternative hypothesis_ $H_1$: Person $X$ has the virus.\n",
    "\n",
    "Suppose that you devise a test which takes some measurements from each test subject and then computes a corresponding p-value.\n",
    "\n",
    "Last week, we looked at several approaches for controllling False Positive Rate (FPR), Family Wise Error Rate (FWER) and False Discovery Rate (FDR). However, they all have some drawbacks for medical decision making: FPR and FWER do not depend on the prevalence of the disease and neither of them allows a decision maker to consider different misclassification costs arising from false-negative and false-positive diagnoses.\n",
    "\n",
    "When making medical decisions, wrong diagnoses carry different costs. Deciding that a patient does not have the virus when in reality they do is a **False Negative**. The potential consequences of such a decision are severe: lack of treatment, risk of infecting others, and even premature death.\n",
    "\n",
    "On the other hand, deciding that a patient has the virus when in reality they don't is a **False Positive**. The potential consequences of that include distress, unnecesary treatment and costs of subsequent testing. This is certainly not ideal, but less severe than the consequences of a false negative.\n",
    "\n",
    "We've previously evaluated decisions in terms of their TPR and FPR, and showed how ROC curves demonstrate the trade-off curve between the two quantities. We saw that it is not always clear how to choose the best trade-off.\n",
    "\n",
    "A very popular way of choosing the trade-off, and simultaneously comparing different procedures, is the idea of **risk** that we learnt in Lecture 5. Here, the analyst constructs a loss function by specifying the **cost** of making each type of mistake.\n"
   ],
   "metadata": {}
  },
  {
   "cell_type": "markdown",
   "source": [
    "### Question 1a\n",
    "\n",
    "Let's assume that we estimate the cost of making a false negative mistake to be $k$-times larger than the cost of a false positive. We can express that via a **loss function**, shown below:\n",
    "\n",
    "$$\\begin{cases} \\mathcal{l}(D=1|R=0) = 1\\\\\n",
    "\\mathcal{l}(D=0|R=1) = ~?\\\\\n",
    "\\mathcal{l}(D=0|R=0)=\\mathcal{l}(D=1|R=1) = 0\\end{cases}$$\n",
    "\n",
    "What should be the value of $~?$ in the equation above? Assign your answer to the variable `question_mark` below **as a string**.\n",
    "\n",
    "<!--\n",
    "BEGIN QUESTION\n",
    "name: q1ai\n",
    "manual: false\n",
    "points: 1\n",
    "-->"
   ],
   "metadata": {
    "deletable": false,
    "editable": false
   }
  },
  {
   "cell_type": "code",
   "execution_count": 105,
   "source": [
    "question_mark = ..."
   ],
   "outputs": [],
   "metadata": {}
  },
  {
   "cell_type": "code",
   "execution_count": 106,
   "source": [
    "grader.check(\"q1ai\")"
   ],
   "outputs": [],
   "metadata": {
    "deletable": false,
    "editable": false
   }
  },
  {
   "cell_type": "markdown",
   "source": [
    "<!-- BEGIN QUESTION -->\n",
    "\n",
    "Do FPR and FWER depend on the prevalence of the disease?\n",
    "\n",
    "<!--\n",
    "BEGIN QUESTION\n",
    "name: q1aii\n",
    "manual: true\n",
    "points: 1\n",
    "-->"
   ],
   "metadata": {
    "deletable": false,
    "editable": false
   }
  },
  {
   "cell_type": "markdown",
   "source": [
    "_Type your answer here, replacing this text._"
   ],
   "metadata": {}
  },
  {
   "cell_type": "markdown",
   "source": [
    "_Type your answer here, replacing this text._"
   ],
   "metadata": {}
  },
  {
   "cell_type": "markdown",
   "source": [
    "<!-- END QUESTION -->\n",
    "\n",
    "<!-- BEGIN QUESTION -->\n",
    "\n",
    "Above, you were given one example of when the consequences of a False Negative is more severe than the consequences of a False Positive. Come up with one example of the opposite: when the consequences of a False Positive is more severe than the consequences of a False Negative.\n",
    "\n",
    "<!--\n",
    "BEGIN QUESTION\n",
    "name: q1aiii\n",
    "manual: true\n",
    "points: 1\n",
    "-->"
   ],
   "metadata": {
    "deletable": false,
    "editable": false
   }
  },
  {
   "cell_type": "markdown",
   "source": [
    "_Type your answer here, replacing this text._"
   ],
   "metadata": {}
  },
  {
   "cell_type": "markdown",
   "source": [
    "_Type your answer here, replacing this text._"
   ],
   "metadata": {}
  },
  {
   "cell_type": "markdown",
   "source": [
    "<!-- END QUESTION -->\n",
    "\n",
    "## 1.b: Compute average empirical loss\n",
    "\n",
    "Assume we have a sample of $N$ patients for which a test outputs the following confusion matrix: \n",
    "\n",
    "|             | Decision = 0 | Decision = 1 |\n",
    "|-------------|--------------|--------------|\n",
    "| Reality = 0 | TN           | FP           |\n",
    "| Reality = 1 | FN           | TP           |\n",
    "\n",
    "### Compute the average loss this procedure incurs by summing up the losses for every mis-diagnosis and then dividing by the total number of tests.\n",
    "\n",
    "<!--\n",
    "BEGIN QUESTION\n",
    "name: q1b\n",
    "manual: false\n",
    "points: 1\n",
    "-->"
   ],
   "metadata": {
    "deletable": false,
    "editable": false
   }
  },
  {
   "cell_type": "code",
   "execution_count": 107,
   "source": [
    "def compute_average_loss(results_dictionary, factor_k):\n",
    "    \"\"\" Function that computes average loss for a given confusion matrix and a multiplicative\n",
    "        factor_k that compares the consequences of false nagatives and false positives.\n",
    "        \n",
    "        Inputs:\n",
    "            results_dictionary : a dictionary with the counts of TP, FP, TN and FN\n",
    "            factor_k : float, quantifies the ratio of the negative consequences of\n",
    "                       false negatives compared to false positives\n",
    "                       \n",
    "        Outputs:\n",
    "            average_loss : float\n",
    "    \"\"\"\n",
    "    \n",
    "    TP_count = results_dictionary['TP_count']\n",
    "    FP_count = results_dictionary['FP_count']\n",
    "    TN_count = results_dictionary['TN_count']\n",
    "    FN_count = results_dictionary['FN_count']\n",
    "    \n",
    "    ..."
   ],
   "outputs": [],
   "metadata": {}
  },
  {
   "cell_type": "code",
   "execution_count": 108,
   "source": [
    "grader.check(\"q1b\")"
   ],
   "outputs": [],
   "metadata": {
    "deletable": false,
    "editable": false
   }
  },
  {
   "cell_type": "markdown",
   "source": [
    "## 1.c: Compute the average loss (empirical risk) with respect to various levels $\\alpha$\n",
    "\n",
    "In this part, we will use a simple test that rejects the null hypothesis whenever the p-value of a patient is smaller than some level $\\alpha$. \n",
    "\n",
    "Our goal is to investigate the performance of the test at different levels with respect to the custom loss defined in **1.b**. \n",
    "\n",
    "Recall the naive test from Lab 01:"
   ],
   "metadata": {}
  },
  {
   "cell_type": "code",
   "execution_count": 109,
   "source": [
    "def alpha_threshold_decisions(p_values, alpha):\n",
    "    \"\"\"\n",
    "    Returns decisions on p-values using naive thresholding.\n",
    "    \n",
    "    Inputs:\n",
    "        p_values: array of p-values\n",
    "        alpha: threshold (significance level)\n",
    "    \n",
    "    Returns:\n",
    "        decisions: binary array of same length as p-values, where `decisions[i]` is 1\n",
    "        if `p_values[i]` is deemed significant at level `alpha`, and 0 otherwize\n",
    "    \"\"\"\n",
    "    decisions = p_values <= alpha\n",
    "    return decisions"
   ],
   "outputs": [],
   "metadata": {}
  },
  {
   "cell_type": "markdown",
   "source": [
    "Let's also bring in from Lab 01 the function that computes the counts of TP, TN, FP, FN by comparing the decision to the reality."
   ],
   "metadata": {}
  },
  {
   "cell_type": "code",
   "execution_count": 110,
   "source": [
    "def report_results(decisions, reality):\n",
    "    \"\"\"\n",
    "    Produces a dictionary with counts for the true positives, true negatives,\n",
    "    false negatives, and false positives from the input `decisions`\n",
    "    and `reality` arrays.\n",
    "    \n",
    "    Inputs:\n",
    "      decision: array of 0/1 values where 1 indicates that patient has the virus.\n",
    "      reality: array of 0/1 values where 1 indicates a draw from the alternative.\n",
    "    \n",
    "    Outputs: a dictionary of TN, TP, FN, and FP counts.\n",
    "    \"\"\"   \n",
    "    \n",
    "    TP_count = np.sum(decisions*reality)\n",
    "    TN_count = np.sum((1-decisions)*(1-reality))\n",
    "    FP_count = np.sum((decisions)*(1-reality))\n",
    "    FN_count = np.sum((1-decisions)*(reality))\n",
    "    \n",
    "    results_dictionary = {\"TN_count\": TN_count,\n",
    "                          \"TP_count\": TP_count,\n",
    "                          \"FN_count\": FN_count,\n",
    "                          \"FP_count\": FP_count,\n",
    "                         }\n",
    "    return results_dictionary"
   ],
   "outputs": [],
   "metadata": {}
  },
  {
   "cell_type": "markdown",
   "source": [
    "First, we will generate ground truth data. \n",
    "\n",
    "Assume there are $N$ subjects, out of which a fraction truly have the virus. This fraction is known as **prevalence**: $\\mathbb{P}\\{R=1\\}$.\n",
    "\n",
    "The function below generates p-values associated with each test subject. "
   ],
   "metadata": {}
  },
  {
   "cell_type": "code",
   "execution_count": 111,
   "source": [
    "def generate_ground_truth(N, prevalence):\n",
    "    \"\"\" Creates simulated p-values corresponding to N subjects at a \n",
    "    specified disease prevalence level\"\"\"\n",
    "    rs = np.random.RandomState(1)\n",
    "    reality = rs.binomial(1, prevalence, N)\n",
    "    p_values = 1 - norm.cdf(rs.randn(N) + reality)\n",
    "    return(p_values, reality)"
   ],
   "outputs": [],
   "metadata": {}
  },
  {
   "cell_type": "code",
   "execution_count": 112,
   "source": [
    "N = 10000\n",
    "prevalence = 0.1\n",
    "p_values, reality = generate_ground_truth(N, prevalence)"
   ],
   "outputs": [],
   "metadata": {}
  },
  {
   "cell_type": "markdown",
   "source": [
    "### In the cell below complete the function that computes the average loss (empirical risk) for an $\\alpha$ level test.\n",
    "\n",
    "<!--\n",
    "BEGIN QUESTION\n",
    "name: q1c\n",
    "manual: false\n",
    "points: 1\n",
    "-->"
   ],
   "metadata": {
    "deletable": false,
    "editable": false
   }
  },
  {
   "cell_type": "code",
   "execution_count": 113,
   "source": [
    "# TODO: complete the function\n",
    "def compute_alpha_average_loss(p_values, reality, alpha, factor_k):\n",
    "    \"\"\" \n",
    "    Computes the observed average loss for an alpha level test.\n",
    "    \n",
    "    Inputs:\n",
    "        p_values: array of floats, p-value[i] is the p-values associated with test subject i.\n",
    "        reality: array of 0/1s\n",
    "        alpha: float, threshold for rejecting the null hypothesis\n",
    "        factor_k: float, quantifies the ratio of the negative consequences of\n",
    "                  false negatives compared to false positives\n",
    "                  \n",
    "    Outputs:\n",
    "        average_loss: float, average observed loss\n",
    "    \"\"\"\n",
    "    \n",
    "    # HINT: Your code should take advantage of functions already defined in this notebook.\n",
    "    \n",
    "    ..."
   ],
   "outputs": [],
   "metadata": {}
  },
  {
   "cell_type": "code",
   "execution_count": 114,
   "source": [
    "grader.check(\"q1c\")"
   ],
   "outputs": [],
   "metadata": {
    "deletable": false,
    "editable": false
   }
  },
  {
   "cell_type": "markdown",
   "source": [
    "## 1.d Investigate the average loss plot for different levels of disease prevalence \n",
    "The function below generates ground truth for a sample of 10000 subjects for a given disease prevalence. It then computes the average loss for diagnostic decisions at level $\\alpha$, where $\\alpha \\in [0, 1]$ . Finally, it plots the resulting average loss (y axis) at a level $\\alpha$ (x axis)."
   ],
   "metadata": {}
  },
  {
   "cell_type": "code",
   "execution_count": 115,
   "source": [
    "# Run this as is after completing the `compute_alpha_average_loss` function\n",
    "# Do not modify\n",
    "def plot_average_loss(prevalence, factor_k):\n",
    "    N = 10000\n",
    "    # generate ground truth\n",
    "    p_values, reality = generate_ground_truth(N, prevalence)\n",
    "    # vary alpha from 0 to 1\n",
    "    alpha_array = np.arange(0,1, 0.05)\n",
    "    # compute average loss for each alpha\n",
    "    average_loss_array = [compute_alpha_average_loss(p_values, reality, alpha, factor_k) for alpha in alpha_array]\n",
    "    optimal_alpha = alpha_array[np.argmin(average_loss_array)]\n",
    "    plt.figure(figsize=(10, 6))\n",
    "    plt.plot(alpha_array, average_loss_array, label = 'Average Loss')\n",
    "    plt.axvline(x=optimal_alpha, ls='--', label = 'Optimal $\\\\alpha$', c='green')\n",
    "    plt.xlabel('$\\\\alpha$ level')\n",
    "    plt.ylabel('Average Loss')\n",
    "    plt.legend()\n",
    "    plt.show()  "
   ],
   "outputs": [],
   "metadata": {}
  },
  {
   "cell_type": "code",
   "execution_count": 116,
   "source": [
    "# Visualize interactive plot: Do not modify\n",
    "interactive_plot = interactive(plot_average_loss, prevalence=(0.0, 0.11, 0.01), factor_k=(0, 100, 5))\n",
    "interactive_plot "
   ],
   "outputs": [],
   "metadata": {}
  },
  {
   "cell_type": "markdown",
   "source": [
    "<!-- BEGIN QUESTION -->\n",
    "\n",
    "Fix the `prevalence` of the disease at $0.05$ ($5\\%$). Using the slider in the interactive plot above, try out different values for the multiplicative `factor_k`. What do you notice? How would you adjust your diagnosic procedure based on the value of `factor_k`? What combination of `factor_k` and $\\alpha$ gives you the lowest possible loss, and why?\n",
    "\n",
    "<!--\n",
    "BEGIN QUESTION\n",
    "name: q1di\n",
    "manual: true\n",
    "points: 1\n",
    "-->"
   ],
   "metadata": {
    "deletable": false,
    "editable": false
   }
  },
  {
   "cell_type": "markdown",
   "source": [
    "_Type your answer here, replacing this text._"
   ],
   "metadata": {}
  },
  {
   "cell_type": "markdown",
   "source": [
    "_Type your answer here, replacing this text._"
   ],
   "metadata": {}
  },
  {
   "cell_type": "markdown",
   "source": [
    "<!-- END QUESTION -->\n",
    "\n",
    "<!-- BEGIN QUESTION -->\n",
    "\n",
    "Fix `factor_k` at $50$ (meaning that the negative consequence of a false negative are 50 times larger than the negative consequences of a false positive). Using the slider in the interactive plot above, try out different values for the true prevalence of the disease. What do you notice? How would you adjust your diagnostic procedure based on the prevalence of the disease? What combination of prevalence and $\\alpha$ gives you the lowest possible loss, and why?\n",
    "\n",
    "<!--\n",
    "BEGIN QUESTION\n",
    "name: q1dii\n",
    "manual: true\n",
    "points: 1\n",
    "-->"
   ],
   "metadata": {
    "deletable": false,
    "editable": false
   }
  },
  {
   "cell_type": "markdown",
   "source": [
    "_Type your answer here, replacing this text._"
   ],
   "metadata": {}
  },
  {
   "cell_type": "markdown",
   "source": [
    "_Type your answer here, replacing this text._"
   ],
   "metadata": {}
  },
  {
   "cell_type": "markdown",
   "source": [
    "<!-- END QUESTION -->\n",
    "\n",
    "\n",
    "# Question 2.\n",
    "In the previous question you played the role of a test designer or device manufacturer that needs to find an appropriate way to calibrate the test such that it minimizes some desired loss. In this part put yourself in the shoes of a medical professional who is using this testing device without really knowing all the internals of it. \n",
    "\n",
    "The test kit claims a certain specificity ($1-FPR$) and sensitivity ($1-FNR$). \n",
    "\n",
    "Assume you have a new patient that came in and tested positive (you have only the binary output of the test). Your goal is to determine whether or not to put this patient through treatment.\n",
    "\n",
    "To answer this we will make the following assumptions:\n",
    "- Assume as in part 1, that getting a false negative is $k$ times worse than getting a false positive.\n",
    "- Assume that you know the `prevalence` of this disease.\n",
    "- Assume that the test has a certain `specificity` and `sensitivity`.\n",
    "\n",
    "## 2.a Compute the posterior\n",
    "Complete the function below to compute the posterior probability that the patient truly has the disease conditioned on a positive test result: namely, compute $\\mathbb{P}\\{R=1|D=1\\}$ as a function of `prevalence`, `sensitivity` and `specificity`.\n",
    "\n",
    "*Hint: We've already seen this in HW1 and discussion 2*\n",
    "\n",
    "<!--\n",
    "BEGIN QUESTION\n",
    "name: q2a\n",
    "manual: false\n",
    "points: 1\n",
    "-->"
   ],
   "metadata": {
    "deletable": false,
    "editable": false
   }
  },
  {
   "cell_type": "code",
   "execution_count": 117,
   "source": [
    "def compute_posterior_probability(prevalence, sensitivity, specificity):\n",
    "    \"\"\" \n",
    "    Computes the posterior probability that the patient trully has the disease \n",
    "    conditioned on a positive test result.\n",
    "    \n",
    "    Inputs: \n",
    "        prevalence: float, fraction of the population that has the disease\n",
    "        sensitivity: float, 1 - false negative rate\n",
    "        specificity: float, 1 - false positive rate\n",
    "        \n",
    "    Outputs:\n",
    "        posterior probability: probability that the patient has the disease given a positive test result\n",
    "    \"\"\"\n",
    "    ...\n",
    "    posterior_probability = ...\n",
    "    return round(posterior_probability, 3)"
   ],
   "outputs": [],
   "metadata": {}
  },
  {
   "cell_type": "code",
   "execution_count": 118,
   "source": [
    "grader.check(\"q2a\")"
   ],
   "outputs": [],
   "metadata": {}
  },
  {
   "cell_type": "code",
   "execution_count": 119,
   "source": [
    "# Let's compute a few posterior probabilities\n",
    "prevalence = [0.001, 0.1]\n",
    "sensitivity = 0.98\n",
    "specificity = 0.99\n",
    "print('Conditioned on a positive test result, with sensitivity {} and specificity {}:'.format(sensitivity, specificity))\n",
    "print('For a low prevalence disesase ({}), the posterior probability that the test subject is truly positive is {:.3f}'.\n",
    "      format(prevalence[0], compute_posterior_probability(prevalence[0], sensitivity, specificity)))\n",
    "print('For a high prevalence disesase ({}), the posterior probability that the test subject is truly positive is {:.3f}'.\n",
    "      format(prevalence[1], compute_posterior_probability(prevalence[1], sensitivity, specificity)))\n"
   ],
   "outputs": [],
   "metadata": {}
  },
  {
   "cell_type": "markdown",
   "source": [
    "## 2.b Compute expected loss function with respect to posterior distribution\n",
    "\n",
    "Given that the test returned a positive result (that $D=1$), you can make one of two posible decisions:\n",
    " - $T = 1$: start the treatment\n",
    " - $T = 0$: do not start the treatment despite the positive test result\n",
    " \n",
    "Similarly to Question 1, let's assume that we estimate the cost of not treating a truly sick patient to be $k$ times larger than the cost of treating a patient that is not truly sick.\n",
    "\n",
    "Recall from lecture that a loss function takes in a hidden state of the world $\\theta$ (in this case, that's the reality $R$: whether or not the patient is sick), and a decision $\\delta$ (in this case, that's $T$: whether or not to treat). Our loss function has the formula:\n",
    "\n",
    "$$\\begin{cases} \\ell(R=0, T=1) = 1\\\\\n",
    "\\ell(R=1, T=0) = k\\\\\n",
    "\\ell(R=0, T=0)=\\ell(R=1, T=1) = 0\\end{cases}$$\n",
    "\n",
    "### Compute the expected loss for each treatment decision, given that someone tested positive:\n",
    "$$\\mathbb{E}[l(R,T=0)|D=1] = ?$$\n",
    "$$\\mathbb{E}[l(R,T=1)|D=1] = ?$$\n",
    "\n",
    "*Hint: Think carefully about what is random here. What's it's distribution?*\n",
    "\n",
    "<!--\n",
    "BEGIN QUESTION\n",
    "name: q2b\n",
    "manual: false\n",
    "points: 1\n",
    "-->"
   ],
   "metadata": {
    "deletable": false,
    "editable": false
   }
  },
  {
   "cell_type": "code",
   "execution_count": 120,
   "source": [
    "def compute_expected_loss(treatment, posterior_probability, factor_k):\n",
    "    \"\"\" \n",
    "    Compute the expected loss for the treatment.\n",
    "    \n",
    "    Inputs:\n",
    "        treatment: int 0/1 (0-no treatment, 1-treatment)\n",
    "        posterior_probability: float, probability that the patient is truly sick given positive test result\n",
    "        k_factor : float, quantifies the ratio of the negative consequences of\n",
    "                   false negatives compared to false positives\n",
    "        \n",
    "    \"\"\"\n",
    "    \n",
    "    ..."
   ],
   "outputs": [],
   "metadata": {}
  },
  {
   "cell_type": "code",
   "execution_count": 121,
   "source": [
    "grader.check(\"q2b\")"
   ],
   "outputs": [],
   "metadata": {
    "deletable": false,
    "editable": false
   }
  },
  {
   "cell_type": "markdown",
   "source": [
    "<!-- BEGIN QUESTION -->\n",
    "\n",
    "## 2.c Loss and Risk\n",
    "Is the quantity you computed above a frequentist risk, a Bayesian posterior risk, or neither? Explain why in two sentences or less.\n",
    "\n",
    "<!--\n",
    "BEGIN QUESTION\n",
    "name: q2c\n",
    "manual: true\n",
    "points: 1\n",
    "-->"
   ],
   "metadata": {
    "deletable": false,
    "editable": false
   }
  },
  {
   "cell_type": "markdown",
   "source": [
    "_Type your answer here, replacing this text._"
   ],
   "metadata": {}
  },
  {
   "cell_type": "markdown",
   "source": [
    "_Type your answer here, replacing this text._"
   ],
   "metadata": {}
  },
  {
   "cell_type": "markdown",
   "source": [
    "<!-- END QUESTION -->\n",
    "\n",
    "## 2.d Decide whether or not to administer the treatment by comparing the expected losses in each case.\n",
    "\n",
    "Compare the cost for `treatment T=1` and `no treatment T=0` and choose the option with lower expected loss.\n",
    "\n",
    "<!--\n",
    "BEGIN QUESTION\n",
    "name: q2d\n",
    "manual: false\n",
    "points: 1\n",
    "-->"
   ],
   "metadata": {
    "deletable": false,
    "editable": false
   }
  },
  {
   "cell_type": "code",
   "execution_count": 122,
   "source": [
    "# TODO: complete the function\n",
    "def make_decision(posterior_probability, factor_k):\n",
    "    \"\"\"\n",
    "    Make a decisions to adminster or not the treatment: T=1 or T=0 .\n",
    "    \n",
    "    Inputs: \n",
    "        posterior_probability: float, probability that the patient is truly sick given positive test result\n",
    "        k_factor : float, quantifies the ratio of the negative consequences of\n",
    "                   false negatives compared to false positives\n",
    "    Outputs:\n",
    "        treatment: int, 0/1\n",
    "    \"\"\"\n",
    "    ..."
   ],
   "outputs": [],
   "metadata": {}
  },
  {
   "cell_type": "code",
   "execution_count": 123,
   "source": [
    "grader.check(\"q2d\")"
   ],
   "outputs": [],
   "metadata": {
    "deletable": false,
    "editable": false
   }
  },
  {
   "cell_type": "code",
   "execution_count": 124,
   "source": [
    "import matplotlib.image as mpimg\n",
    "img = mpimg.imread('baby_otter.jpg')\n",
    "imgplot = plt.imshow(img)\n",
    "imgplot.axes.get_xaxis().set_visible(False)\n",
    "imgplot.axes.get_yaxis().set_visible(False)\n",
    "plt.show()"
   ],
   "outputs": [],
   "metadata": {}
  },
  {
   "cell_type": "markdown",
   "source": [
    "---\n",
    "\n",
    "To double-check your work, the cell below will rerun all of the autograder tests."
   ],
   "metadata": {
    "deletable": false,
    "editable": false
   }
  },
  {
   "cell_type": "code",
   "execution_count": 125,
   "source": [
    "grader.check_all()"
   ],
   "outputs": [],
   "metadata": {
    "deletable": false,
    "editable": false
   }
  },
  {
   "cell_type": "markdown",
   "source": [
    "## Submission\n",
    "\n",
    "Make sure you have run all cells in your notebook in order before running the cell below, so that all images/graphs appear in the output. The cell below will generate a zip file for you to submit. **Please save before exporting!**"
   ],
   "metadata": {
    "deletable": false,
    "editable": false
   }
  },
  {
   "cell_type": "code",
   "execution_count": 126,
   "source": [
    "# Save your notebook first, then run this cell to export your submission.\n",
    "grader.export()"
   ],
   "outputs": [],
   "metadata": {
    "deletable": false,
    "editable": false
   }
  }
 ],
 "metadata": {
  "interpreter": {
   "hash": "3c15f22889f43f5bad2227eefc9fa2700368fc465a32bb25a054da26a3a4174f"
  },
  "kernelspec": {
   "display_name": "Python 3.8.12 64-bit ('m1_tf3': conda)",
   "name": "python3"
  },
  "language_info": {
   "codemirror_mode": {
    "name": "ipython",
    "version": 3
   },
   "file_extension": ".py",
   "mimetype": "text/x-python",
   "name": "python",
   "nbconvert_exporter": "python",
   "pygments_lexer": "ipython3",
   "version": "3.8.12"
  }
 },
 "nbformat": 4,
 "nbformat_minor": 4
}